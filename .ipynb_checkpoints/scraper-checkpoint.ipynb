{
 "cells": [
  {
   "cell_type": "code",
   "execution_count": 1,
   "metadata": {},
   "outputs": [],
   "source": [
    "from bs4 import BeautifulSoup\n",
    "import requests\n",
    "import time"
   ]
  },
  {
   "cell_type": "code",
   "execution_count": 13,
   "metadata": {},
   "outputs": [],
   "source": [
    "s = requests.get(\"http://bash.org/?browse=\" + str(500), stream=True)\n",
    "soup2 = BeautifulSoup(s.text, \"html.parser\")"
   ]
  },
  {
   "cell_type": "code",
   "execution_count": 14,
   "metadata": {},
   "outputs": [],
   "source": [
    "t = requests.get(\"http://bash.org/d\", stream=True)\n",
    "soup3 = BeautifulSoup(t.text, 'html.parser')"
   ]
  },
  {
   "cell_type": "code",
   "execution_count": 15,
   "metadata": {},
   "outputs": [],
   "source": [
    "karim = soup.get_text()"
   ]
  },
  {
   "cell_type": "markdown",
   "metadata": {},
   "source": [
    "# Bash.org scrapper \n",
    "## First version"
   ]
  },
  {
   "cell_type": "code",
   "execution_count": 322,
   "metadata": {
    "collapsed": true
   },
   "outputs": [
    {
     "name": "stdout",
     "output_type": "stream",
     "text": [
      "success, page 421\n",
      "success, page 422\n",
      "Invalid page\n"
     ]
    }
   ],
   "source": [
    "success = True\n",
    "page_number = 1\n",
    "\n",
    "# sanity check\n",
    "\n",
    "with open(\"test.csv\",\"w\") as f:\n",
    "    while success:\n",
    "        r = requests.get(\"http://bash.org/?browse=\" + str(page_number), stream=True)\n",
    "        soup = BeautifulSoup(r.text, 'html.parser')\n",
    "\n",
    "        if not soup.get_text().find(\"Invalid page.\") == -1:\n",
    "            print(\"Invalid page\")\n",
    "            success = False\n",
    "        elif soup.title.contents[0] == \"404 Not Found\":\n",
    "            print(\"404 Not Found\")\n",
    "            success = False\n",
    "        elif soup.find_all(\"p\", \"quote\") == []:\n",
    "            print(\"empty page\")\n",
    "        else:\n",
    "            print(\"success, page\", page_number)\n",
    "\n",
    "        quote_infos = soup.find_all(\"p\", \"quote\")\n",
    "        quotes = soup.find_all(\"p\", \"qt\")\n",
    "\n",
    "        # more sanity checks\n",
    "        assert len(quote_infos) == len(quotes)\n",
    "\n",
    "        for quote_info, quote in zip(quote_infos, quotes):\n",
    "            quote_number = quote_info.b.get_text()\n",
    "            score = quote_info.font.get_text()\n",
    "\n",
    "            sentences = quote.get_text().splitlines() \n",
    "            for sentence in sentences:\n",
    "                try:\n",
    "                    username = re.findall(\"<.*?>\", sentence)[0]\n",
    "                    sentence = re.split(\"<.*?> \", sentence, 1)[1]\n",
    "                except IndexError:\n",
    "                    username = \"-\"\n",
    "                f.write(f\"{quote_number}, {score}, {username}, {sentence}\\n\")\n",
    "        page_number += 1"
   ]
  },
  {
   "cell_type": "code",
   "execution_count": 128,
   "metadata": {
    "scrolled": true
   },
   "outputs": [],
   "source": [
    "def has_class_but_no_id(tag):\n",
    "    return tag.has_attr('class') and not tag.has_attr('id')\n",
    "karim2 = soup.find_all(\"p\", \"quote\")\n",
    "karim3 = soup.find_all(\"p\", \"qt\")"
   ]
  },
  {
   "cell_type": "code",
   "execution_count": 245,
   "metadata": {},
   "outputs": [
    {
     "data": {
      "text/plain": [
       "[\"<DigDug> i think i'm gonna walk to the movie theater and see dinosaur...\",\n",
       " '<kimy-> and be surrounded by like 10 year old girls?',\n",
       " \"<Amanda_> He said Dinosaur, not N'Sync.\"]"
      ]
     },
     "execution_count": 245,
     "metadata": {},
     "output_type": "execute_result"
    }
   ],
   "source": [
    "karim4 = karim3[0].get_text()\n",
    "karim6 = karim4.splitlines()\n",
    "karim6"
   ]
  },
  {
   "cell_type": "code",
   "execution_count": 258,
   "metadata": {},
   "outputs": [
    {
     "data": {
      "text/plain": [
       "\"i think i'm gonna walk to the movie theater and see dinosaur...\""
      ]
     },
     "execution_count": 258,
     "metadata": {},
     "output_type": "execute_result"
    }
   ],
   "source": [
    "import re\n",
    "karim7 = re.split(\"<.*?> \", karim6[0], 1)[1]\n",
    "karim7"
   ]
  },
  {
   "cell_type": "code",
   "execution_count": 177,
   "metadata": {},
   "outputs": [
    {
     "data": {
      "text/plain": [
       "['<Sonique> you know you\\'ve just experienced an odd moment at 3:30am when you\\'re completely naked making an away msg for aim and your dad (clothed only in breifs) strolls by, waves, and says, \"i thought i smelled something. oh well, night!\", and walks off']"
      ]
     },
     "execution_count": 177,
     "metadata": {},
     "output_type": "execute_result"
    }
   ],
   "source": [
    "karim3[-7].get_text().splitlines()"
   ]
  },
  {
   "cell_type": "code",
   "execution_count": 242,
   "metadata": {
    "collapsed": true
   },
   "outputs": [
    {
     "data": {
      "text/plain": [
       "[<p class=\"quote\"><a href=\"?8\" title=\"Permanent link to this quote.\"><b>#8</b></a> <a class=\"qa\" href=\"#\" onclick=\"MyWindow=window.open('./?le=689e6a943d4f754234f4e4dfc837d97f&amp;rox=8','MyWindow','width=500,height=300'); return false;\">+</a>(<font color=\"green\">1752</font>)<a class=\"qa\" href=\"#\" onclick=\"MyWindow2=window.open('./?le=689e6a943d4f754234f4e4dfc837d97f&amp;sox=8','MyWindow2','width=500,height=300'); return false;\">-</a> <a class=\"qa\" href=\"./?le=689e6a943d4f754234f4e4dfc837d97f&amp;sux=8\" onclick=\"return confirm('Flag quote for review?');\">[X]</a></p>,\n",
       " <p class=\"quote\"><a href=\"?9\" title=\"Permanent link to this quote.\"><b>#9</b></a> <a class=\"qa\" href=\"#\" onclick=\"MyWindow=window.open('./?le=689e6a943d4f754234f4e4dfc837d97f&amp;rox=9','MyWindow','width=500,height=300'); return false;\">+</a>(<font color=\"green\">6238</font>)<a class=\"qa\" href=\"#\" onclick=\"MyWindow2=window.open('./?le=689e6a943d4f754234f4e4dfc837d97f&amp;sox=9','MyWindow2','width=500,height=300'); return false;\">-</a> <a class=\"qa\" href=\"./?le=689e6a943d4f754234f4e4dfc837d97f&amp;sux=9\" onclick=\"return confirm('Flag quote for review?');\">[X]</a></p>,\n",
       " <p class=\"quote\"><a href=\"?10\" title=\"Permanent link to this quote.\"><b>#10</b></a> <a class=\"qa\" href=\"#\" onclick=\"MyWindow=window.open('./?le=689e6a943d4f754234f4e4dfc837d97f&amp;rox=10','MyWindow','width=500,height=300'); return false;\">+</a>(<font color=\"red\">-1609</font>)<a class=\"qa\" href=\"#\" onclick=\"MyWindow2=window.open('./?le=689e6a943d4f754234f4e4dfc837d97f&amp;sox=10','MyWindow2','width=500,height=300'); return false;\">-</a> <a class=\"qa\" href=\"./?le=689e6a943d4f754234f4e4dfc837d97f&amp;sux=10\" onclick=\"return confirm('Flag quote for review?');\">[X]</a></p>,\n",
       " <p class=\"quote\"><a href=\"?11\" title=\"Permanent link to this quote.\"><b>#11</b></a> <a class=\"qa\" href=\"#\" onclick=\"MyWindow=window.open('./?le=689e6a943d4f754234f4e4dfc837d97f&amp;rox=11','MyWindow','width=500,height=300'); return false;\">+</a>(<font color=\"red\">-1384</font>)<a class=\"qa\" href=\"#\" onclick=\"MyWindow2=window.open('./?le=689e6a943d4f754234f4e4dfc837d97f&amp;sox=11','MyWindow2','width=500,height=300'); return false;\">-</a> <a class=\"qa\" href=\"./?le=689e6a943d4f754234f4e4dfc837d97f&amp;sux=11\" onclick=\"return confirm('Flag quote for review?');\">[X]</a></p>,\n",
       " <p class=\"quote\"><a href=\"?12\" title=\"Permanent link to this quote.\"><b>#12</b></a> <a class=\"qa\" href=\"#\" onclick=\"MyWindow=window.open('./?le=689e6a943d4f754234f4e4dfc837d97f&amp;rox=12','MyWindow','width=500,height=300'); return false;\">+</a>(<font color=\"green\">3955</font>)<a class=\"qa\" href=\"#\" onclick=\"MyWindow2=window.open('./?le=689e6a943d4f754234f4e4dfc837d97f&amp;sox=12','MyWindow2','width=500,height=300'); return false;\">-</a> <a class=\"qa\" href=\"./?le=689e6a943d4f754234f4e4dfc837d97f&amp;sux=12\" onclick=\"return confirm('Flag quote for review?');\">[X]</a></p>,\n",
       " <p class=\"quote\"><a href=\"?13\" title=\"Permanent link to this quote.\"><b>#13</b></a> <a class=\"qa\" href=\"#\" onclick=\"MyWindow=window.open('./?le=689e6a943d4f754234f4e4dfc837d97f&amp;rox=13','MyWindow','width=500,height=300'); return false;\">+</a>(<font color=\"green\">1500</font>)<a class=\"qa\" href=\"#\" onclick=\"MyWindow2=window.open('./?le=689e6a943d4f754234f4e4dfc837d97f&amp;sox=13','MyWindow2','width=500,height=300'); return false;\">-</a> <a class=\"qa\" href=\"./?le=689e6a943d4f754234f4e4dfc837d97f&amp;sux=13\" onclick=\"return confirm('Flag quote for review?');\">[X]</a></p>,\n",
       " <p class=\"quote\"><a href=\"?14\" title=\"Permanent link to this quote.\"><b>#14</b></a> <a class=\"qa\" href=\"#\" onclick=\"MyWindow=window.open('./?le=689e6a943d4f754234f4e4dfc837d97f&amp;rox=14','MyWindow','width=500,height=300'); return false;\">+</a>(<font color=\"green\">2233</font>)<a class=\"qa\" href=\"#\" onclick=\"MyWindow2=window.open('./?le=689e6a943d4f754234f4e4dfc837d97f&amp;sox=14','MyWindow2','width=500,height=300'); return false;\">-</a> <a class=\"qa\" href=\"./?le=689e6a943d4f754234f4e4dfc837d97f&amp;sux=14\" onclick=\"return confirm('Flag quote for review?');\">[X]</a></p>,\n",
       " <p class=\"quote\"><a href=\"?15\" title=\"Permanent link to this quote.\"><b>#15</b></a> <a class=\"qa\" href=\"#\" onclick=\"MyWindow=window.open('./?le=689e6a943d4f754234f4e4dfc837d97f&amp;rox=15','MyWindow','width=500,height=300'); return false;\">+</a>(<font color=\"green\">3457</font>)<a class=\"qa\" href=\"#\" onclick=\"MyWindow2=window.open('./?le=689e6a943d4f754234f4e4dfc837d97f&amp;sox=15','MyWindow2','width=500,height=300'); return false;\">-</a> <a class=\"qa\" href=\"./?le=689e6a943d4f754234f4e4dfc837d97f&amp;sux=15\" onclick=\"return confirm('Flag quote for review?');\">[X]</a></p>,\n",
       " <p class=\"quote\"><a href=\"?16\" title=\"Permanent link to this quote.\"><b>#16</b></a> <a class=\"qa\" href=\"#\" onclick=\"MyWindow=window.open('./?le=689e6a943d4f754234f4e4dfc837d97f&amp;rox=16','MyWindow','width=500,height=300'); return false;\">+</a>(<font color=\"green\">4623</font>)<a class=\"qa\" href=\"#\" onclick=\"MyWindow2=window.open('./?le=689e6a943d4f754234f4e4dfc837d97f&amp;sox=16','MyWindow2','width=500,height=300'); return false;\">-</a> <a class=\"qa\" href=\"./?le=689e6a943d4f754234f4e4dfc837d97f&amp;sux=16\" onclick=\"return confirm('Flag quote for review?');\">[X]</a></p>,\n",
       " <p class=\"quote\"><a href=\"?17\" title=\"Permanent link to this quote.\"><b>#17</b></a> <a class=\"qa\" href=\"#\" onclick=\"MyWindow=window.open('./?le=689e6a943d4f754234f4e4dfc837d97f&amp;rox=17','MyWindow','width=500,height=300'); return false;\">+</a>(<font color=\"green\">1553</font>)<a class=\"qa\" href=\"#\" onclick=\"MyWindow2=window.open('./?le=689e6a943d4f754234f4e4dfc837d97f&amp;sox=17','MyWindow2','width=500,height=300'); return false;\">-</a> <a class=\"qa\" href=\"./?le=689e6a943d4f754234f4e4dfc837d97f&amp;sux=17\" onclick=\"return confirm('Flag quote for review?');\">[X]</a></p>,\n",
       " <p class=\"quote\"><a href=\"?18\" title=\"Permanent link to this quote.\"><b>#18</b></a> <a class=\"qa\" href=\"#\" onclick=\"MyWindow=window.open('./?le=689e6a943d4f754234f4e4dfc837d97f&amp;rox=18','MyWindow','width=500,height=300'); return false;\">+</a>(<font color=\"green\">4769</font>)<a class=\"qa\" href=\"#\" onclick=\"MyWindow2=window.open('./?le=689e6a943d4f754234f4e4dfc837d97f&amp;sox=18','MyWindow2','width=500,height=300'); return false;\">-</a> <a class=\"qa\" href=\"./?le=689e6a943d4f754234f4e4dfc837d97f&amp;sux=18\" onclick=\"return confirm('Flag quote for review?');\">[X]</a></p>,\n",
       " <p class=\"quote\"><a href=\"?19\" title=\"Permanent link to this quote.\"><b>#19</b></a> <a class=\"qa\" href=\"#\" onclick=\"MyWindow=window.open('./?le=689e6a943d4f754234f4e4dfc837d97f&amp;rox=19','MyWindow','width=500,height=300'); return false;\">+</a>(<font color=\"green\">890</font>)<a class=\"qa\" href=\"#\" onclick=\"MyWindow2=window.open('./?le=689e6a943d4f754234f4e4dfc837d97f&amp;sox=19','MyWindow2','width=500,height=300'); return false;\">-</a> <a class=\"qa\" href=\"./?le=689e6a943d4f754234f4e4dfc837d97f&amp;sux=19\" onclick=\"return confirm('Flag quote for review?');\">[X]</a></p>,\n",
       " <p class=\"quote\"><a href=\"?20\" title=\"Permanent link to this quote.\"><b>#20</b></a> <a class=\"qa\" href=\"#\" onclick=\"MyWindow=window.open('./?le=689e6a943d4f754234f4e4dfc837d97f&amp;rox=20','MyWindow','width=500,height=300'); return false;\">+</a>(<font color=\"green\">2296</font>)<a class=\"qa\" href=\"#\" onclick=\"MyWindow2=window.open('./?le=689e6a943d4f754234f4e4dfc837d97f&amp;sox=20','MyWindow2','width=500,height=300'); return false;\">-</a> <a class=\"qa\" href=\"./?le=689e6a943d4f754234f4e4dfc837d97f&amp;sux=20\" onclick=\"return confirm('Flag quote for review?');\">[X]</a></p>,\n",
       " <p class=\"quote\"><a href=\"?21\" title=\"Permanent link to this quote.\"><b>#21</b></a> <a class=\"qa\" href=\"#\" onclick=\"MyWindow=window.open('./?le=689e6a943d4f754234f4e4dfc837d97f&amp;rox=21','MyWindow','width=500,height=300'); return false;\">+</a>(<font color=\"red\">-323</font>)<a class=\"qa\" href=\"#\" onclick=\"MyWindow2=window.open('./?le=689e6a943d4f754234f4e4dfc837d97f&amp;sox=21','MyWindow2','width=500,height=300'); return false;\">-</a> <a class=\"qa\" href=\"./?le=689e6a943d4f754234f4e4dfc837d97f&amp;sux=21\" onclick=\"return confirm('Flag quote for review?');\">[X]</a></p>,\n",
       " <p class=\"quote\"><a href=\"?22\" title=\"Permanent link to this quote.\"><b>#22</b></a> <a class=\"qa\" href=\"#\" onclick=\"MyWindow=window.open('./?le=689e6a943d4f754234f4e4dfc837d97f&amp;rox=22','MyWindow','width=500,height=300'); return false;\">+</a>(<font color=\"green\">2054</font>)<a class=\"qa\" href=\"#\" onclick=\"MyWindow2=window.open('./?le=689e6a943d4f754234f4e4dfc837d97f&amp;sox=22','MyWindow2','width=500,height=300'); return false;\">-</a> <a class=\"qa\" href=\"./?le=689e6a943d4f754234f4e4dfc837d97f&amp;sux=22\" onclick=\"return confirm('Flag quote for review?');\">[X]</a></p>,\n",
       " <p class=\"quote\"><a href=\"?23\" title=\"Permanent link to this quote.\"><b>#23</b></a> <a class=\"qa\" href=\"#\" onclick=\"MyWindow=window.open('./?le=689e6a943d4f754234f4e4dfc837d97f&amp;rox=23','MyWindow','width=500,height=300'); return false;\">+</a>(<font color=\"green\">2112</font>)<a class=\"qa\" href=\"#\" onclick=\"MyWindow2=window.open('./?le=689e6a943d4f754234f4e4dfc837d97f&amp;sox=23','MyWindow2','width=500,height=300'); return false;\">-</a> <a class=\"qa\" href=\"./?le=689e6a943d4f754234f4e4dfc837d97f&amp;sux=23\" onclick=\"return confirm('Flag quote for review?');\">[X]</a></p>,\n",
       " <p class=\"quote\"><a href=\"?24\" title=\"Permanent link to this quote.\"><b>#24</b></a> <a class=\"qa\" href=\"#\" onclick=\"MyWindow=window.open('./?le=689e6a943d4f754234f4e4dfc837d97f&amp;rox=24','MyWindow','width=500,height=300'); return false;\">+</a>(<font color=\"green\">10774</font>)<a class=\"qa\" href=\"#\" onclick=\"MyWindow2=window.open('./?le=689e6a943d4f754234f4e4dfc837d97f&amp;sox=24','MyWindow2','width=500,height=300'); return false;\">-</a> <a class=\"qa\" href=\"./?le=689e6a943d4f754234f4e4dfc837d97f&amp;sux=24\" onclick=\"return confirm('Flag quote for review?');\">[X]</a></p>,\n",
       " <p class=\"quote\"><a href=\"?25\" title=\"Permanent link to this quote.\"><b>#25</b></a> <a class=\"qa\" href=\"#\" onclick=\"MyWindow=window.open('./?le=689e6a943d4f754234f4e4dfc837d97f&amp;rox=25','MyWindow','width=500,height=300'); return false;\">+</a>(<font color=\"green\">1234</font>)<a class=\"qa\" href=\"#\" onclick=\"MyWindow2=window.open('./?le=689e6a943d4f754234f4e4dfc837d97f&amp;sox=25','MyWindow2','width=500,height=300'); return false;\">-</a> <a class=\"qa\" href=\"./?le=689e6a943d4f754234f4e4dfc837d97f&amp;sux=25\" onclick=\"return confirm('Flag quote for review?');\">[X]</a></p>,\n",
       " <p class=\"quote\"><a href=\"?26\" title=\"Permanent link to this quote.\"><b>#26</b></a> <a class=\"qa\" href=\"#\" onclick=\"MyWindow=window.open('./?le=689e6a943d4f754234f4e4dfc837d97f&amp;rox=26','MyWindow','width=500,height=300'); return false;\">+</a>(<font color=\"green\">399</font>)<a class=\"qa\" href=\"#\" onclick=\"MyWindow2=window.open('./?le=689e6a943d4f754234f4e4dfc837d97f&amp;sox=26','MyWindow2','width=500,height=300'); return false;\">-</a> <a class=\"qa\" href=\"./?le=689e6a943d4f754234f4e4dfc837d97f&amp;sux=26\" onclick=\"return confirm('Flag quote for review?');\">[X]</a></p>,\n",
       " <p class=\"quote\"><a href=\"?27\" title=\"Permanent link to this quote.\"><b>#27</b></a> <a class=\"qa\" href=\"#\" onclick=\"MyWindow=window.open('./?le=689e6a943d4f754234f4e4dfc837d97f&amp;rox=27','MyWindow','width=500,height=300'); return false;\">+</a>(<font color=\"green\">2025</font>)<a class=\"qa\" href=\"#\" onclick=\"MyWindow2=window.open('./?le=689e6a943d4f754234f4e4dfc837d97f&amp;sox=27','MyWindow2','width=500,height=300'); return false;\">-</a> <a class=\"qa\" href=\"./?le=689e6a943d4f754234f4e4dfc837d97f&amp;sux=27\" onclick=\"return confirm('Flag quote for review?');\">[X]</a></p>,\n",
       " <p class=\"quote\"><a href=\"?28\" title=\"Permanent link to this quote.\"><b>#28</b></a> <a class=\"qa\" href=\"#\" onclick=\"MyWindow=window.open('./?le=689e6a943d4f754234f4e4dfc837d97f&amp;rox=28','MyWindow','width=500,height=300'); return false;\">+</a>(<font color=\"green\">1351</font>)<a class=\"qa\" href=\"#\" onclick=\"MyWindow2=window.open('./?le=689e6a943d4f754234f4e4dfc837d97f&amp;sox=28','MyWindow2','width=500,height=300'); return false;\">-</a> <a class=\"qa\" href=\"./?le=689e6a943d4f754234f4e4dfc837d97f&amp;sux=28\" onclick=\"return confirm('Flag quote for review?');\">[X]</a></p>,\n",
       " <p class=\"quote\"><a href=\"?30\" title=\"Permanent link to this quote.\"><b>#30</b></a> <a class=\"qa\" href=\"#\" onclick=\"MyWindow=window.open('./?le=689e6a943d4f754234f4e4dfc837d97f&amp;rox=30','MyWindow','width=500,height=300'); return false;\">+</a>(<font color=\"green\">2737</font>)<a class=\"qa\" href=\"#\" onclick=\"MyWindow2=window.open('./?le=689e6a943d4f754234f4e4dfc837d97f&amp;sox=30','MyWindow2','width=500,height=300'); return false;\">-</a> <a class=\"qa\" href=\"./?le=689e6a943d4f754234f4e4dfc837d97f&amp;sux=30\" onclick=\"return confirm('Flag quote for review?');\">[X]</a></p>,\n",
       " <p class=\"quote\"><a href=\"?31\" title=\"Permanent link to this quote.\"><b>#31</b></a> <a class=\"qa\" href=\"#\" onclick=\"MyWindow=window.open('./?le=689e6a943d4f754234f4e4dfc837d97f&amp;rox=31','MyWindow','width=500,height=300'); return false;\">+</a>(<font color=\"green\">2473</font>)<a class=\"qa\" href=\"#\" onclick=\"MyWindow2=window.open('./?le=689e6a943d4f754234f4e4dfc837d97f&amp;sox=31','MyWindow2','width=500,height=300'); return false;\">-</a> <a class=\"qa\" href=\"./?le=689e6a943d4f754234f4e4dfc837d97f&amp;sux=31\" onclick=\"return confirm('Flag quote for review?');\">[X]</a></p>,\n",
       " <p class=\"quote\"><a href=\"?32\" title=\"Permanent link to this quote.\"><b>#32</b></a> <a class=\"qa\" href=\"#\" onclick=\"MyWindow=window.open('./?le=689e6a943d4f754234f4e4dfc837d97f&amp;rox=32','MyWindow','width=500,height=300'); return false;\">+</a>(<font color=\"green\">1611</font>)<a class=\"qa\" href=\"#\" onclick=\"MyWindow2=window.open('./?le=689e6a943d4f754234f4e4dfc837d97f&amp;sox=32','MyWindow2','width=500,height=300'); return false;\">-</a> <a class=\"qa\" href=\"./?le=689e6a943d4f754234f4e4dfc837d97f&amp;sux=32\" onclick=\"return confirm('Flag quote for review?');\">[X]</a></p>,\n",
       " <p class=\"quote\"><a href=\"?33\" title=\"Permanent link to this quote.\"><b>#33</b></a> <a class=\"qa\" href=\"#\" onclick=\"MyWindow=window.open('./?le=689e6a943d4f754234f4e4dfc837d97f&amp;rox=33','MyWindow','width=500,height=300'); return false;\">+</a>(<font color=\"green\">2427</font>)<a class=\"qa\" href=\"#\" onclick=\"MyWindow2=window.open('./?le=689e6a943d4f754234f4e4dfc837d97f&amp;sox=33','MyWindow2','width=500,height=300'); return false;\">-</a> <a class=\"qa\" href=\"./?le=689e6a943d4f754234f4e4dfc837d97f&amp;sux=33\" onclick=\"return confirm('Flag quote for review?');\">[X]</a></p>,\n",
       " <p class=\"quote\"><a href=\"?35\" title=\"Permanent link to this quote.\"><b>#35</b></a> <a class=\"qa\" href=\"#\" onclick=\"MyWindow=window.open('./?le=689e6a943d4f754234f4e4dfc837d97f&amp;rox=35','MyWindow','width=500,height=300'); return false;\">+</a>(<font color=\"green\">206</font>)<a class=\"qa\" href=\"#\" onclick=\"MyWindow2=window.open('./?le=689e6a943d4f754234f4e4dfc837d97f&amp;sox=35','MyWindow2','width=500,height=300'); return false;\">-</a> <a class=\"qa\" href=\"./?le=689e6a943d4f754234f4e4dfc837d97f&amp;sux=35\" onclick=\"return confirm('Flag quote for review?');\">[X]</a></p>,\n",
       " <p class=\"quote\"><a href=\"?36\" title=\"Permanent link to this quote.\"><b>#36</b></a> <a class=\"qa\" href=\"#\" onclick=\"MyWindow=window.open('./?le=689e6a943d4f754234f4e4dfc837d97f&amp;rox=36','MyWindow','width=500,height=300'); return false;\">+</a>(<font color=\"green\">1636</font>)<a class=\"qa\" href=\"#\" onclick=\"MyWindow2=window.open('./?le=689e6a943d4f754234f4e4dfc837d97f&amp;sox=36','MyWindow2','width=500,height=300'); return false;\">-</a> <a class=\"qa\" href=\"./?le=689e6a943d4f754234f4e4dfc837d97f&amp;sux=36\" onclick=\"return confirm('Flag quote for review?');\">[X]</a></p>,\n",
       " <p class=\"quote\"><a href=\"?37\" title=\"Permanent link to this quote.\"><b>#37</b></a> <a class=\"qa\" href=\"#\" onclick=\"MyWindow=window.open('./?le=689e6a943d4f754234f4e4dfc837d97f&amp;rox=37','MyWindow','width=500,height=300'); return false;\">+</a>(<font color=\"green\">2176</font>)<a class=\"qa\" href=\"#\" onclick=\"MyWindow2=window.open('./?le=689e6a943d4f754234f4e4dfc837d97f&amp;sox=37','MyWindow2','width=500,height=300'); return false;\">-</a> <a class=\"qa\" href=\"./?le=689e6a943d4f754234f4e4dfc837d97f&amp;sux=37\" onclick=\"return confirm('Flag quote for review?');\">[X]</a></p>,\n",
       " <p class=\"quote\"><a href=\"?38\" title=\"Permanent link to this quote.\"><b>#38</b></a> <a class=\"qa\" href=\"#\" onclick=\"MyWindow=window.open('./?le=689e6a943d4f754234f4e4dfc837d97f&amp;rox=38','MyWindow','width=500,height=300'); return false;\">+</a>(<font color=\"green\">4276</font>)<a class=\"qa\" href=\"#\" onclick=\"MyWindow2=window.open('./?le=689e6a943d4f754234f4e4dfc837d97f&amp;sox=38','MyWindow2','width=500,height=300'); return false;\">-</a> <a class=\"qa\" href=\"./?le=689e6a943d4f754234f4e4dfc837d97f&amp;sux=38\" onclick=\"return confirm('Flag quote for review?');\">[X]</a></p>,\n",
       " <p class=\"quote\"><a href=\"?39\" title=\"Permanent link to this quote.\"><b>#39</b></a> <a class=\"qa\" href=\"#\" onclick=\"MyWindow=window.open('./?le=689e6a943d4f754234f4e4dfc837d97f&amp;rox=39','MyWindow','width=500,height=300'); return false;\">+</a>(<font color=\"green\">3150</font>)<a class=\"qa\" href=\"#\" onclick=\"MyWindow2=window.open('./?le=689e6a943d4f754234f4e4dfc837d97f&amp;sox=39','MyWindow2','width=500,height=300'); return false;\">-</a> <a class=\"qa\" href=\"./?le=689e6a943d4f754234f4e4dfc837d97f&amp;sux=39\" onclick=\"return confirm('Flag quote for review?');\">[X]</a></p>,\n",
       " <p class=\"quote\"><a href=\"?40\" title=\"Permanent link to this quote.\"><b>#40</b></a> <a class=\"qa\" href=\"#\" onclick=\"MyWindow=window.open('./?le=689e6a943d4f754234f4e4dfc837d97f&amp;rox=40','MyWindow','width=500,height=300'); return false;\">+</a>(<font color=\"red\">-33</font>)<a class=\"qa\" href=\"#\" onclick=\"MyWindow2=window.open('./?le=689e6a943d4f754234f4e4dfc837d97f&amp;sox=40','MyWindow2','width=500,height=300'); return false;\">-</a> <a class=\"qa\" href=\"./?le=689e6a943d4f754234f4e4dfc837d97f&amp;sux=40\" onclick=\"return confirm('Flag quote for review?');\">[X]</a></p>,\n",
       " <p class=\"quote\"><a href=\"?41\" title=\"Permanent link to this quote.\"><b>#41</b></a> <a class=\"qa\" href=\"#\" onclick=\"MyWindow=window.open('./?le=689e6a943d4f754234f4e4dfc837d97f&amp;rox=41','MyWindow','width=500,height=300'); return false;\">+</a>(<font color=\"green\">2330</font>)<a class=\"qa\" href=\"#\" onclick=\"MyWindow2=window.open('./?le=689e6a943d4f754234f4e4dfc837d97f&amp;sox=41','MyWindow2','width=500,height=300'); return false;\">-</a> <a class=\"qa\" href=\"./?le=689e6a943d4f754234f4e4dfc837d97f&amp;sux=41\" onclick=\"return confirm('Flag quote for review?');\">[X]</a></p>,\n",
       " <p class=\"quote\"><a href=\"?43\" title=\"Permanent link to this quote.\"><b>#43</b></a> <a class=\"qa\" href=\"#\" onclick=\"MyWindow=window.open('./?le=689e6a943d4f754234f4e4dfc837d97f&amp;rox=43','MyWindow','width=500,height=300'); return false;\">+</a>(<font color=\"green\">5258</font>)<a class=\"qa\" href=\"#\" onclick=\"MyWindow2=window.open('./?le=689e6a943d4f754234f4e4dfc837d97f&amp;sox=43','MyWindow2','width=500,height=300'); return false;\">-</a> <a class=\"qa\" href=\"./?le=689e6a943d4f754234f4e4dfc837d97f&amp;sux=43\" onclick=\"return confirm('Flag quote for review?');\">[X]</a></p>,\n",
       " <p class=\"quote\"><a href=\"?44\" title=\"Permanent link to this quote.\"><b>#44</b></a> <a class=\"qa\" href=\"#\" onclick=\"MyWindow=window.open('./?le=689e6a943d4f754234f4e4dfc837d97f&amp;rox=44','MyWindow','width=500,height=300'); return false;\">+</a>(<font color=\"green\">846</font>)<a class=\"qa\" href=\"#\" onclick=\"MyWindow2=window.open('./?le=689e6a943d4f754234f4e4dfc837d97f&amp;sox=44','MyWindow2','width=500,height=300'); return false;\">-</a> <a class=\"qa\" href=\"./?le=689e6a943d4f754234f4e4dfc837d97f&amp;sux=44\" onclick=\"return confirm('Flag quote for review?');\">[X]</a></p>,\n",
       " <p class=\"quote\"><a href=\"?45\" title=\"Permanent link to this quote.\"><b>#45</b></a> <a class=\"qa\" href=\"#\" onclick=\"MyWindow=window.open('./?le=689e6a943d4f754234f4e4dfc837d97f&amp;rox=45','MyWindow','width=500,height=300'); return false;\">+</a>(<font color=\"green\">345</font>)<a class=\"qa\" href=\"#\" onclick=\"MyWindow2=window.open('./?le=689e6a943d4f754234f4e4dfc837d97f&amp;sox=45','MyWindow2','width=500,height=300'); return false;\">-</a> <a class=\"qa\" href=\"./?le=689e6a943d4f754234f4e4dfc837d97f&amp;sux=45\" onclick=\"return confirm('Flag quote for review?');\">[X]</a></p>,\n",
       " <p class=\"quote\"><a href=\"?46\" title=\"Permanent link to this quote.\"><b>#46</b></a> <a class=\"qa\" href=\"#\" onclick=\"MyWindow=window.open('./?le=689e6a943d4f754234f4e4dfc837d97f&amp;rox=46','MyWindow','width=500,height=300'); return false;\">+</a>(<font color=\"red\">-29</font>)<a class=\"qa\" href=\"#\" onclick=\"MyWindow2=window.open('./?le=689e6a943d4f754234f4e4dfc837d97f&amp;sox=46','MyWindow2','width=500,height=300'); return false;\">-</a> <a class=\"qa\" href=\"./?le=689e6a943d4f754234f4e4dfc837d97f&amp;sux=46\" onclick=\"return confirm('Flag quote for review?');\">[X]</a></p>,\n",
       " <p class=\"quote\"><a href=\"?47\" title=\"Permanent link to this quote.\"><b>#47</b></a> <a class=\"qa\" href=\"#\" onclick=\"MyWindow=window.open('./?le=689e6a943d4f754234f4e4dfc837d97f&amp;rox=47','MyWindow','width=500,height=300'); return false;\">+</a>(<font color=\"green\">2418</font>)<a class=\"qa\" href=\"#\" onclick=\"MyWindow2=window.open('./?le=689e6a943d4f754234f4e4dfc837d97f&amp;sox=47','MyWindow2','width=500,height=300'); return false;\">-</a> <a class=\"qa\" href=\"./?le=689e6a943d4f754234f4e4dfc837d97f&amp;sux=47\" onclick=\"return confirm('Flag quote for review?');\">[X]</a></p>,\n",
       " <p class=\"quote\"><a href=\"?48\" title=\"Permanent link to this quote.\"><b>#48</b></a> <a class=\"qa\" href=\"#\" onclick=\"MyWindow=window.open('./?le=689e6a943d4f754234f4e4dfc837d97f&amp;rox=48','MyWindow','width=500,height=300'); return false;\">+</a>(<font color=\"green\">1253</font>)<a class=\"qa\" href=\"#\" onclick=\"MyWindow2=window.open('./?le=689e6a943d4f754234f4e4dfc837d97f&amp;sox=48','MyWindow2','width=500,height=300'); return false;\">-</a> <a class=\"qa\" href=\"./?le=689e6a943d4f754234f4e4dfc837d97f&amp;sux=48\" onclick=\"return confirm('Flag quote for review?');\">[X]</a></p>,\n",
       " <p class=\"quote\"><a href=\"?49\" title=\"Permanent link to this quote.\"><b>#49</b></a> <a class=\"qa\" href=\"#\" onclick=\"MyWindow=window.open('./?le=689e6a943d4f754234f4e4dfc837d97f&amp;rox=49','MyWindow','width=500,height=300'); return false;\">+</a>(<font color=\"green\">2134</font>)<a class=\"qa\" href=\"#\" onclick=\"MyWindow2=window.open('./?le=689e6a943d4f754234f4e4dfc837d97f&amp;sox=49','MyWindow2','width=500,height=300'); return false;\">-</a> <a class=\"qa\" href=\"./?le=689e6a943d4f754234f4e4dfc837d97f&amp;sux=49\" onclick=\"return confirm('Flag quote for review?');\">[X]</a></p>,\n",
       " <p class=\"quote\"><a href=\"?50\" title=\"Permanent link to this quote.\"><b>#50</b></a> <a class=\"qa\" href=\"#\" onclick=\"MyWindow=window.open('./?le=689e6a943d4f754234f4e4dfc837d97f&amp;rox=50','MyWindow','width=500,height=300'); return false;\">+</a>(<font color=\"green\">157</font>)<a class=\"qa\" href=\"#\" onclick=\"MyWindow2=window.open('./?le=689e6a943d4f754234f4e4dfc837d97f&amp;sox=50','MyWindow2','width=500,height=300'); return false;\">-</a> <a class=\"qa\" href=\"./?le=689e6a943d4f754234f4e4dfc837d97f&amp;sux=50\" onclick=\"return confirm('Flag quote for review?');\">[X]</a></p>,\n",
       " <p class=\"quote\"><a href=\"?51\" title=\"Permanent link to this quote.\"><b>#51</b></a> <a class=\"qa\" href=\"#\" onclick=\"MyWindow=window.open('./?le=689e6a943d4f754234f4e4dfc837d97f&amp;rox=51','MyWindow','width=500,height=300'); return false;\">+</a>(<font color=\"green\">1046</font>)<a class=\"qa\" href=\"#\" onclick=\"MyWindow2=window.open('./?le=689e6a943d4f754234f4e4dfc837d97f&amp;sox=51','MyWindow2','width=500,height=300'); return false;\">-</a> <a class=\"qa\" href=\"./?le=689e6a943d4f754234f4e4dfc837d97f&amp;sux=51\" onclick=\"return confirm('Flag quote for review?');\">[X]</a></p>,\n",
       " <p class=\"quote\"><a href=\"?52\" title=\"Permanent link to this quote.\"><b>#52</b></a> <a class=\"qa\" href=\"#\" onclick=\"MyWindow=window.open('./?le=689e6a943d4f754234f4e4dfc837d97f&amp;rox=52','MyWindow','width=500,height=300'); return false;\">+</a>(<font color=\"green\">6354</font>)<a class=\"qa\" href=\"#\" onclick=\"MyWindow2=window.open('./?le=689e6a943d4f754234f4e4dfc837d97f&amp;sox=52','MyWindow2','width=500,height=300'); return false;\">-</a> <a class=\"qa\" href=\"./?le=689e6a943d4f754234f4e4dfc837d97f&amp;sux=52\" onclick=\"return confirm('Flag quote for review?');\">[X]</a></p>,\n",
       " <p class=\"quote\"><a href=\"?54\" title=\"Permanent link to this quote.\"><b>#54</b></a> <a class=\"qa\" href=\"#\" onclick=\"MyWindow=window.open('./?le=689e6a943d4f754234f4e4dfc837d97f&amp;rox=54','MyWindow','width=500,height=300'); return false;\">+</a>(<font color=\"green\">1257</font>)<a class=\"qa\" href=\"#\" onclick=\"MyWindow2=window.open('./?le=689e6a943d4f754234f4e4dfc837d97f&amp;sox=54','MyWindow2','width=500,height=300'); return false;\">-</a> <a class=\"qa\" href=\"./?le=689e6a943d4f754234f4e4dfc837d97f&amp;sux=54\" onclick=\"return confirm('Flag quote for review?');\">[X]</a></p>,\n",
       " <p class=\"quote\"><a href=\"?55\" title=\"Permanent link to this quote.\"><b>#55</b></a> <a class=\"qa\" href=\"#\" onclick=\"MyWindow=window.open('./?le=689e6a943d4f754234f4e4dfc837d97f&amp;rox=55','MyWindow','width=500,height=300'); return false;\">+</a>(<font color=\"green\">3931</font>)<a class=\"qa\" href=\"#\" onclick=\"MyWindow2=window.open('./?le=689e6a943d4f754234f4e4dfc837d97f&amp;sox=55','MyWindow2','width=500,height=300'); return false;\">-</a> <a class=\"qa\" href=\"./?le=689e6a943d4f754234f4e4dfc837d97f&amp;sux=55\" onclick=\"return confirm('Flag quote for review?');\">[X]</a></p>,\n",
       " <p class=\"quote\"><a href=\"?56\" title=\"Permanent link to this quote.\"><b>#56</b></a> <a class=\"qa\" href=\"#\" onclick=\"MyWindow=window.open('./?le=689e6a943d4f754234f4e4dfc837d97f&amp;rox=56','MyWindow','width=500,height=300'); return false;\">+</a>(<font color=\"green\">1298</font>)<a class=\"qa\" href=\"#\" onclick=\"MyWindow2=window.open('./?le=689e6a943d4f754234f4e4dfc837d97f&amp;sox=56','MyWindow2','width=500,height=300'); return false;\">-</a> <a class=\"qa\" href=\"./?le=689e6a943d4f754234f4e4dfc837d97f&amp;sux=56\" onclick=\"return confirm('Flag quote for review?');\">[X]</a></p>,\n",
       " <p class=\"quote\"><a href=\"?57\" title=\"Permanent link to this quote.\"><b>#57</b></a> <a class=\"qa\" href=\"#\" onclick=\"MyWindow=window.open('./?le=689e6a943d4f754234f4e4dfc837d97f&amp;rox=57','MyWindow','width=500,height=300'); return false;\">+</a>(<font color=\"red\">-167</font>)<a class=\"qa\" href=\"#\" onclick=\"MyWindow2=window.open('./?le=689e6a943d4f754234f4e4dfc837d97f&amp;sox=57','MyWindow2','width=500,height=300'); return false;\">-</a> <a class=\"qa\" href=\"./?le=689e6a943d4f754234f4e4dfc837d97f&amp;sux=57\" onclick=\"return confirm('Flag quote for review?');\">[X]</a></p>,\n",
       " <p class=\"quote\"><a href=\"?58\" title=\"Permanent link to this quote.\"><b>#58</b></a> <a class=\"qa\" href=\"#\" onclick=\"MyWindow=window.open('./?le=689e6a943d4f754234f4e4dfc837d97f&amp;rox=58','MyWindow','width=500,height=300'); return false;\">+</a>(<font color=\"green\">1629</font>)<a class=\"qa\" href=\"#\" onclick=\"MyWindow2=window.open('./?le=689e6a943d4f754234f4e4dfc837d97f&amp;sox=58','MyWindow2','width=500,height=300'); return false;\">-</a> <a class=\"qa\" href=\"./?le=689e6a943d4f754234f4e4dfc837d97f&amp;sux=58\" onclick=\"return confirm('Flag quote for review?');\">[X]</a></p>,\n",
       " <p class=\"quote\"><a href=\"?59\" title=\"Permanent link to this quote.\"><b>#59</b></a> <a class=\"qa\" href=\"#\" onclick=\"MyWindow=window.open('./?le=689e6a943d4f754234f4e4dfc837d97f&amp;rox=59','MyWindow','width=500,height=300'); return false;\">+</a>(<font color=\"green\">967</font>)<a class=\"qa\" href=\"#\" onclick=\"MyWindow2=window.open('./?le=689e6a943d4f754234f4e4dfc837d97f&amp;sox=59','MyWindow2','width=500,height=300'); return false;\">-</a> <a class=\"qa\" href=\"./?le=689e6a943d4f754234f4e4dfc837d97f&amp;sux=59\" onclick=\"return confirm('Flag quote for review?');\">[X]</a></p>,\n",
       " <p class=\"quote\"><a href=\"?61\" title=\"Permanent link to this quote.\"><b>#61</b></a> <a class=\"qa\" href=\"#\" onclick=\"MyWindow=window.open('./?le=689e6a943d4f754234f4e4dfc837d97f&amp;rox=61','MyWindow','width=500,height=300'); return false;\">+</a>(<font color=\"green\">1337</font>)<a class=\"qa\" href=\"#\" onclick=\"MyWindow2=window.open('./?le=689e6a943d4f754234f4e4dfc837d97f&amp;sox=61','MyWindow2','width=500,height=300'); return false;\">-</a> <a class=\"qa\" href=\"./?le=689e6a943d4f754234f4e4dfc837d97f&amp;sux=61\" onclick=\"return confirm('Flag quote for review?');\">[X]</a></p>,\n",
       " <p class=\"quote\"><a href=\"?63\" title=\"Permanent link to this quote.\"><b>#63</b></a> <a class=\"qa\" href=\"#\" onclick=\"MyWindow=window.open('./?le=689e6a943d4f754234f4e4dfc837d97f&amp;rox=63','MyWindow','width=500,height=300'); return false;\">+</a>(<font color=\"green\">3487</font>)<a class=\"qa\" href=\"#\" onclick=\"MyWindow2=window.open('./?le=689e6a943d4f754234f4e4dfc837d97f&amp;sox=63','MyWindow2','width=500,height=300'); return false;\">-</a> <a class=\"qa\" href=\"./?le=689e6a943d4f754234f4e4dfc837d97f&amp;sux=63\" onclick=\"return confirm('Flag quote for review?');\">[X]</a></p>]"
      ]
     },
     "execution_count": 242,
     "metadata": {},
     "output_type": "execute_result"
    }
   ],
   "source": [
    "karim2"
   ]
  },
  {
   "cell_type": "code",
   "execution_count": 243,
   "metadata": {},
   "outputs": [],
   "source": [
    "karim5 = karim2[0]"
   ]
  },
  {
   "cell_type": "code",
   "execution_count": 244,
   "metadata": {},
   "outputs": [
    {
     "name": "stdout",
     "output_type": "stream",
     "text": [
      "#8\n"
     ]
    },
    {
     "data": {
      "text/plain": [
       "'1752'"
      ]
     },
     "execution_count": 244,
     "metadata": {},
     "output_type": "execute_result"
    }
   ],
   "source": [
    "print(karim5.b.get_text())\n",
    "karim5.font.get_text()"
   ]
  },
  {
   "cell_type": "code",
   "execution_count": 105,
   "metadata": {
    "collapsed": true
   },
   "outputs": [
    {
     "data": {
      "text/plain": [
       "<!DOCTYPE HTML PUBLIC \"-//W3C//DTD HTML 4.0 Transitional//EN\">\n",
       "\n",
       "<html>\n",
       "<head>\n",
       "<title>QDB: Quote Database</title>\n",
       "<meta content=\"text/html; charset=utf-8\" http-equiv=\"Content-Type\"/>\n",
       "<style type=\"text/css\">\n",
       "\t<!--\n",
       "\t\t.smalltext {font-family: arial, helvetica, sans-serif;font-size: 10px;background-color: #f0f0f0;color: #000000}\n",
       "\t\t.seltext {font-family: arial, helvetica, sans-serif;font-size: 10px;background-color: #ffffff;color: #000000}\t\n",
       "\t\tinput.text {color: #000000; background-color: #ffffff;}\n",
       "\t\ttextarea {color: #000000; background-color: #ffffff;}\n",
       "\t\tselect {color: #000000; background-color: #ffffff;}\n",
       "\t\t.qt {\n",
       "\t\t\tfont-family: courier new, lucida console, fixed;\n",
       "\t\t\tfont-size: 10pt;\n",
       "\t\t\tmargin-top: 0px;\n",
       "\t\t}\n",
       "\t\t.qa {\n",
       "\t\t\tfont-family: default;\n",
       "\t\t\tfont-size: 8pt;\n",
       "\t\t\ttext-decoration: none;\n",
       "\t\t}\n",
       "\t\tinput.button {\n",
       "\t\t\tbackground-color: #c08000;\n",
       "\t\t\tcolor: #000000;\n",
       "\t\t}\n",
       "\t\tp.quote {\n",
       "\t\t\tfont-family: courier new, lucida console, fixed;\n",
       "\t\t\tfont-size: smaller;\n",
       "\t\t\tmargin-bottom: 0px;\n",
       "\t\t}\n",
       "\t\t.bodytext {\n",
       "\t\t\tfont-family: arial, helvetica, sans-serif;\n",
       "\t\t\tline-height: 21px;\n",
       "\t\t\tfont-size: smaller;\n",
       "\t\t\tcolor: #000000;\n",
       "\t\t}\n",
       "\t\t.footertext {\n",
       "\t\t\tfont-family: arial, helvetica, sans-serif;\n",
       "\t\t\tfont-size: smaller;\n",
       "\t\t}\n",
       "\t\t.toplinks {\n",
       "\t\t\tfont-family: arial, helvetica, sans-serif;\n",
       "\t\t\tcolor: #000000;\n",
       "\t\t\tfont-size: smaller;\n",
       "\t\t}\n",
       "\t\t.topnum {font-family: arial, helvetica, sans-serif; color: #000000;}\n",
       "\n",
       "\t-->\n",
       "\t</style>\n",
       "</head>\n",
       "<body alink=\"#c08000\" bgcolor=\"#ffffff\" link=\"#c08000\" text=\"#000000\" vlink=\"#c08000\">\n",
       "<script>\n",
       "  (function(i,s,o,g,r,a,m){i['GoogleAnalyticsObject']=r;i[r]=i[r]||function(){\n",
       "  (i[r].q=i[r].q||[]).push(arguments)},i[r].l=1*new Date();a=s.createElement(o),\n",
       "  m=s.getElementsByTagName(o)[0];a.async=1;a.src=g;m.parentNode.insertBefore(a,m)\n",
       "  })(window,document,'script','https://www.google-analytics.com/analytics.js','ga');\n",
       "\n",
       "  ga('create', 'UA-91754139-2', 'auto');\n",
       "  ga('send', 'pageview');\n",
       "\n",
       "</script>\n",
       "<form action=\"./?\" name=\"tsearch\">\n",
       "<center>\n",
       "<table border=\"0\" cellpadding=\"2\" cellspacing=\"0\" width=\"80%\">\n",
       "<tr>\n",
       "<td align=\"left\" bgcolor=\"#c08000\">\n",
       "<font size=\"+1\"><b><i>QDB</i></b></font>\n",
       "<a href=\"./?admin\"><font color=\"#c08000\" size=\"-1\">Admin</font></a></td>\n",
       "<td align=\"right\" bgcolor=\"#c08000\">\n",
       "<font face=\"arial\" size=\"+1\"><b>Quote Database</b></font><br/></td>\n",
       "</tr></table>\n",
       "<table border=\"0\" cellpadding=\"2\" cellspacing=\"0\" width=\"80%\">\n",
       "<tr>\n",
       "<td align=\"left\" bgcolor=\"#f0f0f0\" class=\"footertext\">\n",
       "<a href=\"https://www.paypal.com/xclick/business=donate@bash.org&amp;item_name=Bash.org+Donation\">Paypal Donate</a></td> <td align=\"right\" bgcolor=\"#f0f0f0\" class=\"toplinks\" colspan=\"2\">\n",
       "<a href=\"./\">Home</a> / <a href=\"./?latest\">Latest</a> / <a href=\"./?browse\">Browse</a>\n",
       " / <a href=\"./?random\">Random</a> <a href=\"./?random1\">&gt;0</a>\n",
       " / <a href=\"./?top\">Top 100</a><a href=\"./?top2\">-200</a> / <a href=\"./?add\"><b>Add Quote</b></a>\n",
       " / <a href=\"modapp/\">ModApp</a> / <a href=\"./?search\">Search</a> / <font class=\"topnum\">#</font> <input class=\"smalltext\" name=\"quote\" size=\"4\" type=\"text\"/>\n",
       "</td>\n",
       "</tr>\n",
       "</table>\n",
       "</center></form>\n",
       "</body></html><p>\n",
       "<center><table cellpadding=\"0\" cellspacing=\"0\" width=\"80%\"><tr><td><font class=\"qt\"><center><font class=\"qa\">01</font>-<a class=\"qa\" href=\"./?browse&amp;p=02\">02</a>-<a class=\"qa\" href=\"./?browse&amp;p=03\">03</a>-<a class=\"qa\" href=\"./?browse&amp;p=04\">04</a>-<a class=\"qa\" href=\"./?browse&amp;p=05\">05</a>-<a class=\"qa\" href=\"./?browse&amp;p=06\">06</a> <a class=\"qa\" href=\"./?browse&amp;p=2\">&gt;</a> <a class=\"qa\" href=\"./?browse&amp;p=11\">+10</a> <a class=\"qa\" href=\"?browse&amp;p=422\">End</a> <br/><form action=\"./?browse\" name=\"sel\"><font class=\"seltext\">Page:  <select class=\"seltext\" name=\"browse\" onchange=\"javascript: document.sel.submit()\"></select></font><option selected=\"\" value=\"1\">1</option><option value=\"2\">2</option><option value=\"3\">3</option><option value=\"4\">4</option><option value=\"5\">5</option><option value=\"6\">6</option><option value=\"7\">7</option><option value=\"8\">8</option><option value=\"9\">9</option><option value=\"10\">10</option><option value=\"11\">11</option><option value=\"12\">12</option><option value=\"13\">13</option><option value=\"14\">14</option><option value=\"15\">15</option><option value=\"16\">16</option><option value=\"17\">17</option><option value=\"18\">18</option><option value=\"19\">19</option><option value=\"20\">20</option><option value=\"21\">21</option><option value=\"22\">22</option><option value=\"23\">23</option><option value=\"24\">24</option><option value=\"25\">25</option><option value=\"26\">26</option><option value=\"27\">27</option><option value=\"28\">28</option><option value=\"29\">29</option><option value=\"30\">30</option><option value=\"31\">31</option><option value=\"32\">32</option><option value=\"33\">33</option><option value=\"34\">34</option><option value=\"35\">35</option><option value=\"36\">36</option><option value=\"37\">37</option><option value=\"38\">38</option><option value=\"39\">39</option><option value=\"40\">40</option><option value=\"41\">41</option><option value=\"42\">42</option><option value=\"43\">43</option><option value=\"44\">44</option><option value=\"45\">45</option><option value=\"46\">46</option><option value=\"47\">47</option><option value=\"48\">48</option><option value=\"49\">49</option><option value=\"50\">50</option><option value=\"51\">51</option><option value=\"52\">52</option><option value=\"53\">53</option><option value=\"54\">54</option><option value=\"55\">55</option><option value=\"56\">56</option><option value=\"57\">57</option><option value=\"58\">58</option><option value=\"59\">59</option><option value=\"60\">60</option><option value=\"61\">61</option><option value=\"62\">62</option><option value=\"63\">63</option><option value=\"64\">64</option><option value=\"65\">65</option><option value=\"66\">66</option><option value=\"67\">67</option><option value=\"68\">68</option><option value=\"69\">69</option><option value=\"70\">70</option><option value=\"71\">71</option><option value=\"72\">72</option><option value=\"73\">73</option><option value=\"74\">74</option><option value=\"75\">75</option><option value=\"76\">76</option><option value=\"77\">77</option><option value=\"78\">78</option><option value=\"79\">79</option><option value=\"80\">80</option><option value=\"81\">81</option><option value=\"82\">82</option><option value=\"83\">83</option><option value=\"84\">84</option><option value=\"85\">85</option><option value=\"86\">86</option><option value=\"87\">87</option><option value=\"88\">88</option><option value=\"89\">89</option><option value=\"90\">90</option><option value=\"91\">91</option><option value=\"92\">92</option><option value=\"93\">93</option><option value=\"94\">94</option><option value=\"95\">95</option><option value=\"96\">96</option><option value=\"97\">97</option><option value=\"98\">98</option><option value=\"99\">99</option><option value=\"100\">100</option><option value=\"101\">101</option><option value=\"102\">102</option><option value=\"103\">103</option><option value=\"104\">104</option><option value=\"105\">105</option><option value=\"106\">106</option><option value=\"107\">107</option><option value=\"108\">108</option><option value=\"109\">109</option><option value=\"110\">110</option><option value=\"111\">111</option><option value=\"112\">112</option><option value=\"113\">113</option><option value=\"114\">114</option><option value=\"115\">115</option><option value=\"116\">116</option><option value=\"117\">117</option><option value=\"118\">118</option><option value=\"119\">119</option><option value=\"120\">120</option><option value=\"121\">121</option><option value=\"122\">122</option><option value=\"123\">123</option><option value=\"124\">124</option><option value=\"125\">125</option><option value=\"126\">126</option><option value=\"127\">127</option><option value=\"128\">128</option><option value=\"129\">129</option><option value=\"130\">130</option><option value=\"131\">131</option><option value=\"132\">132</option><option value=\"133\">133</option><option value=\"134\">134</option><option value=\"135\">135</option><option value=\"136\">136</option><option value=\"137\">137</option><option value=\"138\">138</option><option value=\"139\">139</option><option value=\"140\">140</option><option value=\"141\">141</option><option value=\"142\">142</option><option value=\"143\">143</option><option value=\"144\">144</option><option value=\"145\">145</option><option value=\"146\">146</option><option value=\"147\">147</option><option value=\"148\">148</option><option value=\"149\">149</option><option value=\"150\">150</option><option value=\"151\">151</option><option value=\"152\">152</option><option value=\"153\">153</option><option value=\"154\">154</option><option value=\"155\">155</option><option value=\"156\">156</option><option value=\"157\">157</option><option value=\"158\">158</option><option value=\"159\">159</option><option value=\"160\">160</option><option value=\"161\">161</option><option value=\"162\">162</option><option value=\"163\">163</option><option value=\"164\">164</option><option value=\"165\">165</option><option value=\"166\">166</option><option value=\"167\">167</option><option value=\"168\">168</option><option value=\"169\">169</option><option value=\"170\">170</option><option value=\"171\">171</option><option value=\"172\">172</option><option value=\"173\">173</option><option value=\"174\">174</option><option value=\"175\">175</option><option value=\"176\">176</option><option value=\"177\">177</option><option value=\"178\">178</option><option value=\"179\">179</option><option value=\"180\">180</option><option value=\"181\">181</option><option value=\"182\">182</option><option value=\"183\">183</option><option value=\"184\">184</option><option value=\"185\">185</option><option value=\"186\">186</option><option value=\"187\">187</option><option value=\"188\">188</option><option value=\"189\">189</option><option value=\"190\">190</option><option value=\"191\">191</option><option value=\"192\">192</option><option value=\"193\">193</option><option value=\"194\">194</option><option value=\"195\">195</option><option value=\"196\">196</option><option value=\"197\">197</option><option value=\"198\">198</option><option value=\"199\">199</option><option value=\"200\">200</option><option value=\"201\">201</option><option value=\"202\">202</option><option value=\"203\">203</option><option value=\"204\">204</option><option value=\"205\">205</option><option value=\"206\">206</option><option value=\"207\">207</option><option value=\"208\">208</option><option value=\"209\">209</option><option value=\"210\">210</option><option value=\"211\">211</option><option value=\"212\">212</option><option value=\"213\">213</option><option value=\"214\">214</option><option value=\"215\">215</option><option value=\"216\">216</option><option value=\"217\">217</option><option value=\"218\">218</option><option value=\"219\">219</option><option value=\"220\">220</option><option value=\"221\">221</option><option value=\"222\">222</option><option value=\"223\">223</option><option value=\"224\">224</option><option value=\"225\">225</option><option value=\"226\">226</option><option value=\"227\">227</option><option value=\"228\">228</option><option value=\"229\">229</option><option value=\"230\">230</option><option value=\"231\">231</option><option value=\"232\">232</option><option value=\"233\">233</option><option value=\"234\">234</option><option value=\"235\">235</option><option value=\"236\">236</option><option value=\"237\">237</option><option value=\"238\">238</option><option value=\"239\">239</option><option value=\"240\">240</option><option value=\"241\">241</option><option value=\"242\">242</option><option value=\"243\">243</option><option value=\"244\">244</option><option value=\"245\">245</option><option value=\"246\">246</option><option value=\"247\">247</option><option value=\"248\">248</option><option value=\"249\">249</option><option value=\"250\">250</option><option value=\"251\">251</option><option value=\"252\">252</option><option value=\"253\">253</option><option value=\"254\">254</option><option value=\"255\">255</option><option value=\"256\">256</option><option value=\"257\">257</option><option value=\"258\">258</option><option value=\"259\">259</option><option value=\"260\">260</option><option value=\"261\">261</option><option value=\"262\">262</option><option value=\"263\">263</option><option value=\"264\">264</option><option value=\"265\">265</option><option value=\"266\">266</option><option value=\"267\">267</option><option value=\"268\">268</option><option value=\"269\">269</option><option value=\"270\">270</option><option value=\"271\">271</option><option value=\"272\">272</option><option value=\"273\">273</option><option value=\"274\">274</option><option value=\"275\">275</option><option value=\"276\">276</option><option value=\"277\">277</option><option value=\"278\">278</option><option value=\"279\">279</option><option value=\"280\">280</option><option value=\"281\">281</option><option value=\"282\">282</option><option value=\"283\">283</option><option value=\"284\">284</option><option value=\"285\">285</option><option value=\"286\">286</option><option value=\"287\">287</option><option value=\"288\">288</option><option value=\"289\">289</option><option value=\"290\">290</option><option value=\"291\">291</option><option value=\"292\">292</option><option value=\"293\">293</option><option value=\"294\">294</option><option value=\"295\">295</option><option value=\"296\">296</option><option value=\"297\">297</option><option value=\"298\">298</option><option value=\"299\">299</option><option value=\"300\">300</option><option value=\"301\">301</option><option value=\"302\">302</option><option value=\"303\">303</option><option value=\"304\">304</option><option value=\"305\">305</option><option value=\"306\">306</option><option value=\"307\">307</option><option value=\"308\">308</option><option value=\"309\">309</option><option value=\"310\">310</option><option value=\"311\">311</option><option value=\"312\">312</option><option value=\"313\">313</option><option value=\"314\">314</option><option value=\"315\">315</option><option value=\"316\">316</option><option value=\"317\">317</option><option value=\"318\">318</option><option value=\"319\">319</option><option value=\"320\">320</option><option value=\"321\">321</option><option value=\"322\">322</option><option value=\"323\">323</option><option value=\"324\">324</option><option value=\"325\">325</option><option value=\"326\">326</option><option value=\"327\">327</option><option value=\"328\">328</option><option value=\"329\">329</option><option value=\"330\">330</option><option value=\"331\">331</option><option value=\"332\">332</option><option value=\"333\">333</option><option value=\"334\">334</option><option value=\"335\">335</option><option value=\"336\">336</option><option value=\"337\">337</option><option value=\"338\">338</option><option value=\"339\">339</option><option value=\"340\">340</option><option value=\"341\">341</option><option value=\"342\">342</option><option value=\"343\">343</option><option value=\"344\">344</option><option value=\"345\">345</option><option value=\"346\">346</option><option value=\"347\">347</option><option value=\"348\">348</option><option value=\"349\">349</option><option value=\"350\">350</option><option value=\"351\">351</option><option value=\"352\">352</option><option value=\"353\">353</option><option value=\"354\">354</option><option value=\"355\">355</option><option value=\"356\">356</option><option value=\"357\">357</option><option value=\"358\">358</option><option value=\"359\">359</option><option value=\"360\">360</option><option value=\"361\">361</option><option value=\"362\">362</option><option value=\"363\">363</option><option value=\"364\">364</option><option value=\"365\">365</option><option value=\"366\">366</option><option value=\"367\">367</option><option value=\"368\">368</option><option value=\"369\">369</option><option value=\"370\">370</option><option value=\"371\">371</option><option value=\"372\">372</option><option value=\"373\">373</option><option value=\"374\">374</option><option value=\"375\">375</option><option value=\"376\">376</option><option value=\"377\">377</option><option value=\"378\">378</option><option value=\"379\">379</option><option value=\"380\">380</option><option value=\"381\">381</option><option value=\"382\">382</option><option value=\"383\">383</option><option value=\"384\">384</option><option value=\"385\">385</option><option value=\"386\">386</option><option value=\"387\">387</option><option value=\"388\">388</option><option value=\"389\">389</option><option value=\"390\">390</option><option value=\"391\">391</option><option value=\"392\">392</option><option value=\"393\">393</option><option value=\"394\">394</option><option value=\"395\">395</option><option value=\"396\">396</option><option value=\"397\">397</option><option value=\"398\">398</option><option value=\"399\">399</option><option value=\"400\">400</option><option value=\"401\">401</option><option value=\"402\">402</option><option value=\"403\">403</option><option value=\"404\">404</option><option value=\"405\">405</option><option value=\"406\">406</option><option value=\"407\">407</option><option value=\"408\">408</option><option value=\"409\">409</option><option value=\"410\">410</option><option value=\"411\">411</option><option value=\"412\">412</option><option value=\"413\">413</option><option value=\"414\">414</option><option value=\"415\">415</option><option value=\"416\">416</option><option value=\"417\">417</option><option value=\"418\">418</option><option value=\"419\">419</option><option value=\"420\">420</option><option value=\"421\">421</option><option value=\"422\">422</option></form></center></font></td></tr></table></center>\n",
       "<center>\n",
       "<table cellpadding=\"2\" cellspacing=\"0\" width=\"80%\">\n",
       "<tr><td valign=\"top\">\n",
       "<p class=\"quote\"><a href=\"?8\" title=\"Permanent link to this quote.\"><b>#8</b></a> <a class=\"qa\" href=\"#\" onclick=\"MyWindow=window.open('./?le=689e6a943d4f754234f4e4dfc837d97f&amp;rox=8','MyWindow','width=500,height=300'); return false;\">+</a>(<font color=\"green\">1752</font>)<a class=\"qa\" href=\"#\" onclick=\"MyWindow2=window.open('./?le=689e6a943d4f754234f4e4dfc837d97f&amp;sox=8','MyWindow2','width=500,height=300'); return false;\">-</a> <a class=\"qa\" href=\"./?le=689e6a943d4f754234f4e4dfc837d97f&amp;sux=8\" onclick=\"return confirm('Flag quote for review?');\">[X]</a></p><p class=\"qt\">&lt;DigDug&gt; i think i'm gonna walk to the movie theater and see dinosaur...<br>\n",
       "&lt;kimy-&gt; and be surrounded by like 10 year old girls?<br>\n",
       "&lt;Amanda_&gt; He said Dinosaur, not N'Sync.</br></br></p>\n",
       "<p class=\"quote\"><a href=\"?9\" title=\"Permanent link to this quote.\"><b>#9</b></a> <a class=\"qa\" href=\"#\" onclick=\"MyWindow=window.open('./?le=689e6a943d4f754234f4e4dfc837d97f&amp;rox=9','MyWindow','width=500,height=300'); return false;\">+</a>(<font color=\"green\">6238</font>)<a class=\"qa\" href=\"#\" onclick=\"MyWindow2=window.open('./?le=689e6a943d4f754234f4e4dfc837d97f&amp;sox=9','MyWindow2','width=500,height=300'); return false;\">-</a> <a class=\"qa\" href=\"./?le=689e6a943d4f754234f4e4dfc837d97f&amp;sux=9\" onclick=\"return confirm('Flag quote for review?');\">[X]</a></p><p class=\"qt\">&lt;cooksii&gt; incest is at least something the whole family can do.</p>\n",
       "<p class=\"quote\"><a href=\"?10\" title=\"Permanent link to this quote.\"><b>#10</b></a> <a class=\"qa\" href=\"#\" onclick=\"MyWindow=window.open('./?le=689e6a943d4f754234f4e4dfc837d97f&amp;rox=10','MyWindow','width=500,height=300'); return false;\">+</a>(<font color=\"red\">-1609</font>)<a class=\"qa\" href=\"#\" onclick=\"MyWindow2=window.open('./?le=689e6a943d4f754234f4e4dfc837d97f&amp;sox=10','MyWindow2','width=500,height=300'); return false;\">-</a> <a class=\"qa\" href=\"./?le=689e6a943d4f754234f4e4dfc837d97f&amp;sux=10\" onclick=\"return confirm('Flag quote for review?');\">[X]</a></p><p class=\"qt\">&lt;Mishmashi&gt; yesterday i got bisexual services</p>\n",
       "<p class=\"quote\"><a href=\"?11\" title=\"Permanent link to this quote.\"><b>#11</b></a> <a class=\"qa\" href=\"#\" onclick=\"MyWindow=window.open('./?le=689e6a943d4f754234f4e4dfc837d97f&amp;rox=11','MyWindow','width=500,height=300'); return false;\">+</a>(<font color=\"red\">-1384</font>)<a class=\"qa\" href=\"#\" onclick=\"MyWindow2=window.open('./?le=689e6a943d4f754234f4e4dfc837d97f&amp;sox=11','MyWindow2','width=500,height=300'); return false;\">-</a> <a class=\"qa\" href=\"./?le=689e6a943d4f754234f4e4dfc837d97f&amp;sux=11\" onclick=\"return confirm('Flag quote for review?');\">[X]</a></p><p class=\"qt\">&lt;dazz:#cdr&gt; its it possible to read half a disk at a time, eg, i have a small hd, can i read 300 mb, burn it, and the do the another 300 mb, and som on, eg on a psx game</p>\n",
       "<p class=\"quote\"><a href=\"?12\" title=\"Permanent link to this quote.\"><b>#12</b></a> <a class=\"qa\" href=\"#\" onclick=\"MyWindow=window.open('./?le=689e6a943d4f754234f4e4dfc837d97f&amp;rox=12','MyWindow','width=500,height=300'); return false;\">+</a>(<font color=\"green\">3955</font>)<a class=\"qa\" href=\"#\" onclick=\"MyWindow2=window.open('./?le=689e6a943d4f754234f4e4dfc837d97f&amp;sox=12','MyWindow2','width=500,height=300'); return false;\">-</a> <a class=\"qa\" href=\"./?le=689e6a943d4f754234f4e4dfc837d97f&amp;sux=12\" onclick=\"return confirm('Flag quote for review?');\">[X]</a></p><p class=\"qt\">&lt;Moot&gt; ok, here's what we do<br/>\n",
       "&lt;Moot&gt; we break into AOL HQ<br/>\n",
       "&lt;Moot&gt; and instead of the AOL setup utility, we put metallica mp3s on all of the startup cds</p>\n",
       "<p class=\"quote\"><a href=\"?13\" title=\"Permanent link to this quote.\"><b>#13</b></a> <a class=\"qa\" href=\"#\" onclick=\"MyWindow=window.open('./?le=689e6a943d4f754234f4e4dfc837d97f&amp;rox=13','MyWindow','width=500,height=300'); return false;\">+</a>(<font color=\"green\">1500</font>)<a class=\"qa\" href=\"#\" onclick=\"MyWindow2=window.open('./?le=689e6a943d4f754234f4e4dfc837d97f&amp;sox=13','MyWindow2','width=500,height=300'); return false;\">-</a> <a class=\"qa\" href=\"./?le=689e6a943d4f754234f4e4dfc837d97f&amp;sux=13\" onclick=\"return confirm('Flag quote for review?');\">[X]</a></p><p class=\"qt\">&lt;EtherMan&gt; stoner chicks suck<br/>\n",
       "&lt;EtherMan&gt; they're a waste of a perfectly good set of breasts.</p>\n",
       "<p class=\"quote\"><a href=\"?14\" title=\"Permanent link to this quote.\"><b>#14</b></a> <a class=\"qa\" href=\"#\" onclick=\"MyWindow=window.open('./?le=689e6a943d4f754234f4e4dfc837d97f&amp;rox=14','MyWindow','width=500,height=300'); return false;\">+</a>(<font color=\"green\">2233</font>)<a class=\"qa\" href=\"#\" onclick=\"MyWindow2=window.open('./?le=689e6a943d4f754234f4e4dfc837d97f&amp;sox=14','MyWindow2','width=500,height=300'); return false;\">-</a> <a class=\"qa\" href=\"./?le=689e6a943d4f754234f4e4dfc837d97f&amp;sux=14\" onclick=\"return confirm('Flag quote for review?');\">[X]</a></p><p class=\"qt\">&lt;watashi-x&gt; Oh my God! Are you attemping to DoS me?<br/>\n",
       "&lt;Polymer&gt; WTF are you talking about dumb ass<br/>\n",
       "&lt;Polymer&gt; I can't get into your MS-DOS</p>\n",
       "<p class=\"quote\"><a href=\"?15\" title=\"Permanent link to this quote.\"><b>#15</b></a> <a class=\"qa\" href=\"#\" onclick=\"MyWindow=window.open('./?le=689e6a943d4f754234f4e4dfc837d97f&amp;rox=15','MyWindow','width=500,height=300'); return false;\">+</a>(<font color=\"green\">3457</font>)<a class=\"qa\" href=\"#\" onclick=\"MyWindow2=window.open('./?le=689e6a943d4f754234f4e4dfc837d97f&amp;sox=15','MyWindow2','width=500,height=300'); return false;\">-</a> <a class=\"qa\" href=\"./?le=689e6a943d4f754234f4e4dfc837d97f&amp;sux=15\" onclick=\"return confirm('Flag quote for review?');\">[X]</a></p><p class=\"qt\">&lt;emufreak&gt; I HATE CHANNEL TOPICS<br/>\n",
       "&lt;emufreak&gt; WHY MUST THEY EXIST<br/>\n",
       "&lt;emufreak&gt; AND WHY DO I STILL CLICK THEM WHEN THEY END IN .JPG</p>\n",
       "<p class=\"quote\"><a href=\"?16\" title=\"Permanent link to this quote.\"><b>#16</b></a> <a class=\"qa\" href=\"#\" onclick=\"MyWindow=window.open('./?le=689e6a943d4f754234f4e4dfc837d97f&amp;rox=16','MyWindow','width=500,height=300'); return false;\">+</a>(<font color=\"green\">4623</font>)<a class=\"qa\" href=\"#\" onclick=\"MyWindow2=window.open('./?le=689e6a943d4f754234f4e4dfc837d97f&amp;sox=16','MyWindow2','width=500,height=300'); return false;\">-</a> <a class=\"qa\" href=\"./?le=689e6a943d4f754234f4e4dfc837d97f&amp;sux=16\" onclick=\"return confirm('Flag quote for review?');\">[X]</a></p><p class=\"qt\">&lt;wecell&gt; new apples look fairly interesting, but i'd hate to buy into something that is going to CRASH all the time.<br/>\n",
       "&lt;DigDug&gt; wecell : What are you using right now?<br/>\n",
       "&lt;wecell&gt; i've always used windows machines.</p>\n",
       "<p class=\"quote\"><a href=\"?17\" title=\"Permanent link to this quote.\"><b>#17</b></a> <a class=\"qa\" href=\"#\" onclick=\"MyWindow=window.open('./?le=689e6a943d4f754234f4e4dfc837d97f&amp;rox=17','MyWindow','width=500,height=300'); return false;\">+</a>(<font color=\"green\">1553</font>)<a class=\"qa\" href=\"#\" onclick=\"MyWindow2=window.open('./?le=689e6a943d4f754234f4e4dfc837d97f&amp;sox=17','MyWindow2','width=500,height=300'); return false;\">-</a> <a class=\"qa\" href=\"./?le=689e6a943d4f754234f4e4dfc837d97f&amp;sux=17\" onclick=\"return confirm('Flag quote for review?');\">[X]</a></p><p class=\"qt\">&lt;emufreak&gt; And now, an interview with Marat Fayzullin.<br/>\n",
       "&lt;emufreak&gt; How did you get into emulation?<br/>\n",
       "&lt;RST38h&gt; Well, it started when som*** PLZ PAY $35 TO CONTINUE</p>\n",
       "<p class=\"quote\"><a href=\"?18\" title=\"Permanent link to this quote.\"><b>#18</b></a> <a class=\"qa\" href=\"#\" onclick=\"MyWindow=window.open('./?le=689e6a943d4f754234f4e4dfc837d97f&amp;rox=18','MyWindow','width=500,height=300'); return false;\">+</a>(<font color=\"green\">4769</font>)<a class=\"qa\" href=\"#\" onclick=\"MyWindow2=window.open('./?le=689e6a943d4f754234f4e4dfc837d97f&amp;sox=18','MyWindow2','width=500,height=300'); return false;\">-</a> <a class=\"qa\" href=\"./?le=689e6a943d4f754234f4e4dfc837d97f&amp;sux=18\" onclick=\"return confirm('Flag quote for review?');\">[X]</a></p><p class=\"qt\">&lt;TOZTWO&gt; I was kinda shy, and still am, so right after sex, I started getting dressed before she could turn on the lights......<br/>\n",
       "&lt;TOZTWO&gt; Well, she turns the light on, and I have my clothes on already, and she can't find her undies.......<br/>\n",
       "&lt;TOZTWO&gt; But she finds my undies next to the bed.<br/>\n",
       "&lt;TOZTWO&gt; Guess whose undies I'm wearing?</p>\n",
       "<p class=\"quote\"><a href=\"?19\" title=\"Permanent link to this quote.\"><b>#19</b></a> <a class=\"qa\" href=\"#\" onclick=\"MyWindow=window.open('./?le=689e6a943d4f754234f4e4dfc837d97f&amp;rox=19','MyWindow','width=500,height=300'); return false;\">+</a>(<font color=\"green\">890</font>)<a class=\"qa\" href=\"#\" onclick=\"MyWindow2=window.open('./?le=689e6a943d4f754234f4e4dfc837d97f&amp;sox=19','MyWindow2','width=500,height=300'); return false;\">-</a> <a class=\"qa\" href=\"./?le=689e6a943d4f754234f4e4dfc837d97f&amp;sux=19\" onclick=\"return confirm('Flag quote for review?');\">[X]</a></p><p class=\"qt\">&lt;@Unsavory&gt; eggdrop1.4.0 is weird<br/>\n",
       "&lt;@Unsavory&gt; its got just a different feel to it<br/>\n",
       "&lt;@Unsavory&gt; like an anus and a vagina</p>\n",
       "<p class=\"quote\"><a href=\"?20\" title=\"Permanent link to this quote.\"><b>#20</b></a> <a class=\"qa\" href=\"#\" onclick=\"MyWindow=window.open('./?le=689e6a943d4f754234f4e4dfc837d97f&amp;rox=20','MyWindow','width=500,height=300'); return false;\">+</a>(<font color=\"green\">2296</font>)<a class=\"qa\" href=\"#\" onclick=\"MyWindow2=window.open('./?le=689e6a943d4f754234f4e4dfc837d97f&amp;sox=20','MyWindow2','width=500,height=300'); return false;\">-</a> <a class=\"qa\" href=\"./?le=689e6a943d4f754234f4e4dfc837d97f&amp;sux=20\" onclick=\"return confirm('Flag quote for review?');\">[X]</a></p><p class=\"qt\">&lt;Dr_DOS&gt; My fish get scared of pizza boxes.<br/>\n",
       "&lt;Dr_DOS&gt; They think they're giant borg ships or smth<br/>\n",
       "&lt;repp0r&gt; Don't put an anchovie pizza near your fish.</p>\n",
       "<p class=\"quote\"><a href=\"?21\" title=\"Permanent link to this quote.\"><b>#21</b></a> <a class=\"qa\" href=\"#\" onclick=\"MyWindow=window.open('./?le=689e6a943d4f754234f4e4dfc837d97f&amp;rox=21','MyWindow','width=500,height=300'); return false;\">+</a>(<font color=\"red\">-323</font>)<a class=\"qa\" href=\"#\" onclick=\"MyWindow2=window.open('./?le=689e6a943d4f754234f4e4dfc837d97f&amp;sox=21','MyWindow2','width=500,height=300'); return false;\">-</a> <a class=\"qa\" href=\"./?le=689e6a943d4f754234f4e4dfc837d97f&amp;sux=21\" onclick=\"return confirm('Flag quote for review?');\">[X]</a></p><p class=\"qt\">&lt;Tempy^^&gt; I'll settle for old and fat<br/>\n",
       "&lt;Tempy^^&gt; begger can't be choosers<br/>\n",
       "&lt;Tempy^^&gt; prolly find used condoms inside of her</p>\n",
       "<p class=\"quote\"><a href=\"?22\" title=\"Permanent link to this quote.\"><b>#22</b></a> <a class=\"qa\" href=\"#\" onclick=\"MyWindow=window.open('./?le=689e6a943d4f754234f4e4dfc837d97f&amp;rox=22','MyWindow','width=500,height=300'); return false;\">+</a>(<font color=\"green\">2054</font>)<a class=\"qa\" href=\"#\" onclick=\"MyWindow2=window.open('./?le=689e6a943d4f754234f4e4dfc837d97f&amp;sox=22','MyWindow2','width=500,height=300'); return false;\">-</a> <a class=\"qa\" href=\"./?le=689e6a943d4f754234f4e4dfc837d97f&amp;sux=22\" onclick=\"return confirm('Flag quote for review?');\">[X]</a></p><p class=\"qt\">&lt;`Xenocide&gt; Bolstered by the state of Kansas' recent measure removing the requirement for the teaching of evolution in public schools, yesterday afternoon the Mississippi legislature passed a bill eliminating fractions and decimal points from the mathematics curriculum of all public secondary schools in the state.</p>\n",
       "<p class=\"quote\"><a href=\"?23\" title=\"Permanent link to this quote.\"><b>#23</b></a> <a class=\"qa\" href=\"#\" onclick=\"MyWindow=window.open('./?le=689e6a943d4f754234f4e4dfc837d97f&amp;rox=23','MyWindow','width=500,height=300'); return false;\">+</a>(<font color=\"green\">2112</font>)<a class=\"qa\" href=\"#\" onclick=\"MyWindow2=window.open('./?le=689e6a943d4f754234f4e4dfc837d97f&amp;sox=23','MyWindow2','width=500,height=300'); return false;\">-</a> <a class=\"qa\" href=\"./?le=689e6a943d4f754234f4e4dfc837d97f&amp;sux=23\" onclick=\"return confirm('Flag quote for review?');\">[X]</a></p><p class=\"qt\">&lt;Guilty&gt; Oh god I just changed my pw and instantly forgot it</p>\n",
       "<p class=\"quote\"><a href=\"?24\" title=\"Permanent link to this quote.\"><b>#24</b></a> <a class=\"qa\" href=\"#\" onclick=\"MyWindow=window.open('./?le=689e6a943d4f754234f4e4dfc837d97f&amp;rox=24','MyWindow','width=500,height=300'); return false;\">+</a>(<font color=\"green\">10774</font>)<a class=\"qa\" href=\"#\" onclick=\"MyWindow2=window.open('./?le=689e6a943d4f754234f4e4dfc837d97f&amp;sox=24','MyWindow2','width=500,height=300'); return false;\">-</a> <a class=\"qa\" href=\"./?le=689e6a943d4f754234f4e4dfc837d97f&amp;sux=24\" onclick=\"return confirm('Flag quote for review?');\">[X]</a></p><p class=\"qt\">&lt;ckx&gt; women ask for it<br/>\n",
       "&lt;ckx&gt; they act all old and mature<br/>\n",
       "&lt;ckx&gt; and then you stick your cock up their ass<br/>\n",
       "&lt;ckx&gt; and they get all bitchy<br/>\n",
       "&lt;ckx&gt; \"I\"M ONLY 13, I'M ONLY 13!!!\"</p>\n",
       "<p class=\"quote\"><a href=\"?25\" title=\"Permanent link to this quote.\"><b>#25</b></a> <a class=\"qa\" href=\"#\" onclick=\"MyWindow=window.open('./?le=689e6a943d4f754234f4e4dfc837d97f&amp;rox=25','MyWindow','width=500,height=300'); return false;\">+</a>(<font color=\"green\">1234</font>)<a class=\"qa\" href=\"#\" onclick=\"MyWindow2=window.open('./?le=689e6a943d4f754234f4e4dfc837d97f&amp;sox=25','MyWindow2','width=500,height=300'); return false;\">-</a> <a class=\"qa\" href=\"./?le=689e6a943d4f754234f4e4dfc837d97f&amp;sux=25\" onclick=\"return confirm('Flag quote for review?');\">[X]</a></p><p class=\"qt\">&lt;Ash&gt; Yeah, but iln's pot abuse makes him unemployable.<br/>\n",
       "&lt;iln&gt; you can't abuse pot ash</p>\n",
       "<p class=\"quote\"><a href=\"?26\" title=\"Permanent link to this quote.\"><b>#26</b></a> <a class=\"qa\" href=\"#\" onclick=\"MyWindow=window.open('./?le=689e6a943d4f754234f4e4dfc837d97f&amp;rox=26','MyWindow','width=500,height=300'); return false;\">+</a>(<font color=\"green\">399</font>)<a class=\"qa\" href=\"#\" onclick=\"MyWindow2=window.open('./?le=689e6a943d4f754234f4e4dfc837d97f&amp;sox=26','MyWindow2','width=500,height=300'); return false;\">-</a> <a class=\"qa\" href=\"./?le=689e6a943d4f754234f4e4dfc837d97f&amp;sux=26\" onclick=\"return confirm('Flag quote for review?');\">[X]</a></p><p class=\"qt\">&lt;AlmtyBob&gt; 401k's are for homos who fucking intend to live until 65</p>\n",
       "<p class=\"quote\"><a href=\"?27\" title=\"Permanent link to this quote.\"><b>#27</b></a> <a class=\"qa\" href=\"#\" onclick=\"MyWindow=window.open('./?le=689e6a943d4f754234f4e4dfc837d97f&amp;rox=27','MyWindow','width=500,height=300'); return false;\">+</a>(<font color=\"green\">2025</font>)<a class=\"qa\" href=\"#\" onclick=\"MyWindow2=window.open('./?le=689e6a943d4f754234f4e4dfc837d97f&amp;sox=27','MyWindow2','width=500,height=300'); return false;\">-</a> <a class=\"qa\" href=\"./?le=689e6a943d4f754234f4e4dfc837d97f&amp;sux=27\" onclick=\"return confirm('Flag quote for review?');\">[X]</a></p><p class=\"qt\">&lt;kolby&gt; learn so grahmar(sp? ;[) and get back to me</p>\n",
       "<p class=\"quote\"><a href=\"?28\" title=\"Permanent link to this quote.\"><b>#28</b></a> <a class=\"qa\" href=\"#\" onclick=\"MyWindow=window.open('./?le=689e6a943d4f754234f4e4dfc837d97f&amp;rox=28','MyWindow','width=500,height=300'); return false;\">+</a>(<font color=\"green\">1351</font>)<a class=\"qa\" href=\"#\" onclick=\"MyWindow2=window.open('./?le=689e6a943d4f754234f4e4dfc837d97f&amp;sox=28','MyWindow2','width=500,height=300'); return false;\">-</a> <a class=\"qa\" href=\"./?le=689e6a943d4f754234f4e4dfc837d97f&amp;sux=28\" onclick=\"return confirm('Flag quote for review?');\">[X]</a></p><p class=\"qt\">&lt;Deth[EHC]&gt; Chromium: stop masturbating imma be home any minute :P<br/>\n",
       "*** Deth[EHC] has quit IRC (Leaving)<br/>\n",
       "&lt;reptile-&gt; Actually, that's a secret code for Chromium to get ready for the ass reaming of his life.</p>\n",
       "<p class=\"quote\"><a href=\"?30\" title=\"Permanent link to this quote.\"><b>#30</b></a> <a class=\"qa\" href=\"#\" onclick=\"MyWindow=window.open('./?le=689e6a943d4f754234f4e4dfc837d97f&amp;rox=30','MyWindow','width=500,height=300'); return false;\">+</a>(<font color=\"green\">2737</font>)<a class=\"qa\" href=\"#\" onclick=\"MyWindow2=window.open('./?le=689e6a943d4f754234f4e4dfc837d97f&amp;sox=30','MyWindow2','width=500,height=300'); return false;\">-</a> <a class=\"qa\" href=\"./?le=689e6a943d4f754234f4e4dfc837d97f&amp;sux=30\" onclick=\"return confirm('Flag quote for review?');\">[X]</a></p><p class=\"qt\">&lt;pezmasta&gt; my band is gonna be called: rage against the answering machine</p>\n",
       "<p class=\"quote\"><a href=\"?31\" title=\"Permanent link to this quote.\"><b>#31</b></a> <a class=\"qa\" href=\"#\" onclick=\"MyWindow=window.open('./?le=689e6a943d4f754234f4e4dfc837d97f&amp;rox=31','MyWindow','width=500,height=300'); return false;\">+</a>(<font color=\"green\">2473</font>)<a class=\"qa\" href=\"#\" onclick=\"MyWindow2=window.open('./?le=689e6a943d4f754234f4e4dfc837d97f&amp;sox=31','MyWindow2','width=500,height=300'); return false;\">-</a> <a class=\"qa\" href=\"./?le=689e6a943d4f754234f4e4dfc837d97f&amp;sux=31\" onclick=\"return confirm('Flag quote for review?');\">[X]</a></p><p class=\"qt\">&lt;EM[mMF]&gt; man<br/>\n",
       "&lt;EM[mMF]&gt; unix manuals would be so much cooler<br/>\n",
       "&lt;EM[mMF]&gt; if they had porn in them<br/>\n",
       "&lt;EM[mMF]&gt; like \"Basics of the Bash Shell\"<br/>\n",
       "&lt;EM[mMF]&gt; &lt;LESBIAN PORN&gt;<br/>\n",
       "&lt;EM[mMF]&gt; i'd read that shit</p>\n",
       "<p class=\"quote\"><a href=\"?32\" title=\"Permanent link to this quote.\"><b>#32</b></a> <a class=\"qa\" href=\"#\" onclick=\"MyWindow=window.open('./?le=689e6a943d4f754234f4e4dfc837d97f&amp;rox=32','MyWindow','width=500,height=300'); return false;\">+</a>(<font color=\"green\">1611</font>)<a class=\"qa\" href=\"#\" onclick=\"MyWindow2=window.open('./?le=689e6a943d4f754234f4e4dfc837d97f&amp;sox=32','MyWindow2','width=500,height=300'); return false;\">-</a> <a class=\"qa\" href=\"./?le=689e6a943d4f754234f4e4dfc837d97f&amp;sux=32\" onclick=\"return confirm('Flag quote for review?');\">[X]</a></p><p class=\"qt\">&lt;Goemon&gt; you know how they have the /whois command, they should have a /whowas command to see who people were after they quit.<br/>\n",
       "&lt;Spidey&gt; they do, goemon<br/>\n",
       "&lt;Goemon&gt; damn.<br/>\n",
       "&lt;Goemon&gt; my mom must have dropped<br/>\n",
       "&lt;Goemon&gt; me</p>\n",
       "<p class=\"quote\"><a href=\"?33\" title=\"Permanent link to this quote.\"><b>#33</b></a> <a class=\"qa\" href=\"#\" onclick=\"MyWindow=window.open('./?le=689e6a943d4f754234f4e4dfc837d97f&amp;rox=33','MyWindow','width=500,height=300'); return false;\">+</a>(<font color=\"green\">2427</font>)<a class=\"qa\" href=\"#\" onclick=\"MyWindow2=window.open('./?le=689e6a943d4f754234f4e4dfc837d97f&amp;sox=33','MyWindow2','width=500,height=300'); return false;\">-</a> <a class=\"qa\" href=\"./?le=689e6a943d4f754234f4e4dfc837d97f&amp;sux=33\" onclick=\"return confirm('Flag quote for review?');\">[X]</a></p><p class=\"qt\">[17:05] *** D1 sets mode: +o C-Rock<br/>\n",
       "&lt;D1&gt; oh wait, I was trying to kick you.</p>\n",
       "<p class=\"quote\"><a href=\"?35\" title=\"Permanent link to this quote.\"><b>#35</b></a> <a class=\"qa\" href=\"#\" onclick=\"MyWindow=window.open('./?le=689e6a943d4f754234f4e4dfc837d97f&amp;rox=35','MyWindow','width=500,height=300'); return false;\">+</a>(<font color=\"green\">206</font>)<a class=\"qa\" href=\"#\" onclick=\"MyWindow2=window.open('./?le=689e6a943d4f754234f4e4dfc837d97f&amp;sox=35','MyWindow2','width=500,height=300'); return false;\">-</a> <a class=\"qa\" href=\"./?le=689e6a943d4f754234f4e4dfc837d97f&amp;sux=35\" onclick=\"return confirm('Flag quote for review?');\">[X]</a></p><p class=\"qt\">&lt;Guilty&gt; Ya know that fat guy they always show in Palm Beach<br/>\n",
       "&lt;Guilty&gt; Hes the reason they couldnt get it done</p>\n",
       "<p class=\"quote\"><a href=\"?36\" title=\"Permanent link to this quote.\"><b>#36</b></a> <a class=\"qa\" href=\"#\" onclick=\"MyWindow=window.open('./?le=689e6a943d4f754234f4e4dfc837d97f&amp;rox=36','MyWindow','width=500,height=300'); return false;\">+</a>(<font color=\"green\">1636</font>)<a class=\"qa\" href=\"#\" onclick=\"MyWindow2=window.open('./?le=689e6a943d4f754234f4e4dfc837d97f&amp;sox=36','MyWindow2','width=500,height=300'); return false;\">-</a> <a class=\"qa\" href=\"./?le=689e6a943d4f754234f4e4dfc837d97f&amp;sux=36\" onclick=\"return confirm('Flag quote for review?');\">[X]</a></p><p class=\"qt\">&lt;McMoo&gt; wouldn't it be great if someone made a program where we could connect to a server and chat with each other in channels we create?</p>\n",
       "<p class=\"quote\"><a href=\"?37\" title=\"Permanent link to this quote.\"><b>#37</b></a> <a class=\"qa\" href=\"#\" onclick=\"MyWindow=window.open('./?le=689e6a943d4f754234f4e4dfc837d97f&amp;rox=37','MyWindow','width=500,height=300'); return false;\">+</a>(<font color=\"green\">2176</font>)<a class=\"qa\" href=\"#\" onclick=\"MyWindow2=window.open('./?le=689e6a943d4f754234f4e4dfc837d97f&amp;sox=37','MyWindow2','width=500,height=300'); return false;\">-</a> <a class=\"qa\" href=\"./?le=689e6a943d4f754234f4e4dfc837d97f&amp;sux=37\" onclick=\"return confirm('Flag quote for review?');\">[X]</a></p><p class=\"qt\">&lt;iln&gt; cd earlyteen</p>\n",
       "<p class=\"quote\"><a href=\"?38\" title=\"Permanent link to this quote.\"><b>#38</b></a> <a class=\"qa\" href=\"#\" onclick=\"MyWindow=window.open('./?le=689e6a943d4f754234f4e4dfc837d97f&amp;rox=38','MyWindow','width=500,height=300'); return false;\">+</a>(<font color=\"green\">4276</font>)<a class=\"qa\" href=\"#\" onclick=\"MyWindow2=window.open('./?le=689e6a943d4f754234f4e4dfc837d97f&amp;sox=38','MyWindow2','width=500,height=300'); return false;\">-</a> <a class=\"qa\" href=\"./?le=689e6a943d4f754234f4e4dfc837d97f&amp;sux=38\" onclick=\"return confirm('Flag quote for review?');\">[X]</a></p><p class=\"qt\">&lt;Relevant&gt; get oral_sex_training_video.mpg<br/>\n",
       "&lt;Relevant&gt; Oops wrong window.</p>\n",
       "<p class=\"quote\"><a href=\"?39\" title=\"Permanent link to this quote.\"><b>#39</b></a> <a class=\"qa\" href=\"#\" onclick=\"MyWindow=window.open('./?le=689e6a943d4f754234f4e4dfc837d97f&amp;rox=39','MyWindow','width=500,height=300'); return false;\">+</a>(<font color=\"green\">3150</font>)<a class=\"qa\" href=\"#\" onclick=\"MyWindow2=window.open('./?le=689e6a943d4f754234f4e4dfc837d97f&amp;sox=39','MyWindow2','width=500,height=300'); return false;\">-</a> <a class=\"qa\" href=\"./?le=689e6a943d4f754234f4e4dfc837d97f&amp;sux=39\" onclick=\"return confirm('Flag quote for review?');\">[X]</a></p><p class=\"qt\">&lt;FuNGiSiDE&gt; ftp<br/>\n",
       "&lt;FuNGiSiDE&gt; er wtf</p>\n",
       "<p class=\"quote\"><a href=\"?40\" title=\"Permanent link to this quote.\"><b>#40</b></a> <a class=\"qa\" href=\"#\" onclick=\"MyWindow=window.open('./?le=689e6a943d4f754234f4e4dfc837d97f&amp;rox=40','MyWindow','width=500,height=300'); return false;\">+</a>(<font color=\"red\">-33</font>)<a class=\"qa\" href=\"#\" onclick=\"MyWindow2=window.open('./?le=689e6a943d4f754234f4e4dfc837d97f&amp;sox=40','MyWindow2','width=500,height=300'); return false;\">-</a> <a class=\"qa\" href=\"./?le=689e6a943d4f754234f4e4dfc837d97f&amp;sux=40\" onclick=\"return confirm('Flag quote for review?');\">[X]</a></p><p class=\"qt\">&lt;WiLD_&gt; my lele is at attention</p>\n",
       "<p class=\"quote\"><a href=\"?41\" title=\"Permanent link to this quote.\"><b>#41</b></a> <a class=\"qa\" href=\"#\" onclick=\"MyWindow=window.open('./?le=689e6a943d4f754234f4e4dfc837d97f&amp;rox=41','MyWindow','width=500,height=300'); return false;\">+</a>(<font color=\"green\">2330</font>)<a class=\"qa\" href=\"#\" onclick=\"MyWindow2=window.open('./?le=689e6a943d4f754234f4e4dfc837d97f&amp;sox=41','MyWindow2','width=500,height=300'); return false;\">-</a> <a class=\"qa\" href=\"./?le=689e6a943d4f754234f4e4dfc837d97f&amp;sux=41\" onclick=\"return confirm('Flag quote for review?');\">[X]</a></p><p class=\"qt\">&lt;_Riddler_&gt; i was in the grocery store today<br/>\n",
       "&lt;_Riddler_&gt; and I got this boner<br/>\n",
       "&lt;_Riddler_&gt; I dunno<br/>\n",
       "&lt;_Riddler_&gt; Maybe it was the melons<br/>\n",
       "&lt;IceWizard&gt; Riddler: YOU SAW THE CARROTS</p>\n",
       "<p class=\"quote\"><a href=\"?43\" title=\"Permanent link to this quote.\"><b>#43</b></a> <a class=\"qa\" href=\"#\" onclick=\"MyWindow=window.open('./?le=689e6a943d4f754234f4e4dfc837d97f&amp;rox=43','MyWindow','width=500,height=300'); return false;\">+</a>(<font color=\"green\">5258</font>)<a class=\"qa\" href=\"#\" onclick=\"MyWindow2=window.open('./?le=689e6a943d4f754234f4e4dfc837d97f&amp;sox=43','MyWindow2','width=500,height=300'); return false;\">-</a> <a class=\"qa\" href=\"./?le=689e6a943d4f754234f4e4dfc837d97f&amp;sux=43\" onclick=\"return confirm('Flag quote for review?');\">[X]</a></p><p class=\"qt\">&lt;Dr_DOS&gt; Tupac Shakur sounds like a Protoss name.</p>\n",
       "<p class=\"quote\"><a href=\"?44\" title=\"Permanent link to this quote.\"><b>#44</b></a> <a class=\"qa\" href=\"#\" onclick=\"MyWindow=window.open('./?le=689e6a943d4f754234f4e4dfc837d97f&amp;rox=44','MyWindow','width=500,height=300'); return false;\">+</a>(<font color=\"green\">846</font>)<a class=\"qa\" href=\"#\" onclick=\"MyWindow2=window.open('./?le=689e6a943d4f754234f4e4dfc837d97f&amp;sox=44','MyWindow2','width=500,height=300'); return false;\">-</a> <a class=\"qa\" href=\"./?le=689e6a943d4f754234f4e4dfc837d97f&amp;sux=44\" onclick=\"return confirm('Flag quote for review?');\">[X]</a></p><p class=\"qt\">&lt;iMike&gt; i remember in 8th grade health class we had some guy from a std clinic come in<br/>\n",
       "&lt;iMike&gt; and he was talking about porn mags<br/>\n",
       "&lt;iMike&gt; and some kid was like 'what about playboy?'<br/>\n",
       "&lt;iMike&gt; and the guy was like 'well some consider that to be more of a softcore magazine'</p>\n",
       "<p class=\"quote\"><a href=\"?45\" title=\"Permanent link to this quote.\"><b>#45</b></a> <a class=\"qa\" href=\"#\" onclick=\"MyWindow=window.open('./?le=689e6a943d4f754234f4e4dfc837d97f&amp;rox=45','MyWindow','width=500,height=300'); return false;\">+</a>(<font color=\"green\">345</font>)<a class=\"qa\" href=\"#\" onclick=\"MyWindow2=window.open('./?le=689e6a943d4f754234f4e4dfc837d97f&amp;sox=45','MyWindow2','width=500,height=300'); return false;\">-</a> <a class=\"qa\" href=\"./?le=689e6a943d4f754234f4e4dfc837d97f&amp;sux=45\" onclick=\"return confirm('Flag quote for review?');\">[X]</a></p><p class=\"qt\">&lt;C-Rock&gt; man id give a blowjob to be on Pen's quotes page.<br/>\n",
       "&lt;C-Rock&gt; i might even swallow.</p>\n",
       "<p class=\"quote\"><a href=\"?46\" title=\"Permanent link to this quote.\"><b>#46</b></a> <a class=\"qa\" href=\"#\" onclick=\"MyWindow=window.open('./?le=689e6a943d4f754234f4e4dfc837d97f&amp;rox=46','MyWindow','width=500,height=300'); return false;\">+</a>(<font color=\"red\">-29</font>)<a class=\"qa\" href=\"#\" onclick=\"MyWindow2=window.open('./?le=689e6a943d4f754234f4e4dfc837d97f&amp;sox=46','MyWindow2','width=500,height=300'); return false;\">-</a> <a class=\"qa\" href=\"./?le=689e6a943d4f754234f4e4dfc837d97f&amp;sux=46\" onclick=\"return confirm('Flag quote for review?');\">[X]</a></p><p class=\"qt\">&lt;AlmtyBob&gt; I can stick my lele in cd holes</p>\n",
       "<p class=\"quote\"><a href=\"?47\" title=\"Permanent link to this quote.\"><b>#47</b></a> <a class=\"qa\" href=\"#\" onclick=\"MyWindow=window.open('./?le=689e6a943d4f754234f4e4dfc837d97f&amp;rox=47','MyWindow','width=500,height=300'); return false;\">+</a>(<font color=\"green\">2418</font>)<a class=\"qa\" href=\"#\" onclick=\"MyWindow2=window.open('./?le=689e6a943d4f754234f4e4dfc837d97f&amp;sox=47','MyWindow2','width=500,height=300'); return false;\">-</a> <a class=\"qa\" href=\"./?le=689e6a943d4f754234f4e4dfc837d97f&amp;sux=47\" onclick=\"return confirm('Flag quote for review?');\">[X]</a></p><p class=\"qt\">* EtherMan slashes MadHatter with the jagged edge of a PS2 polygon</p>\n",
       "<p class=\"quote\"><a href=\"?48\" title=\"Permanent link to this quote.\"><b>#48</b></a> <a class=\"qa\" href=\"#\" onclick=\"MyWindow=window.open('./?le=689e6a943d4f754234f4e4dfc837d97f&amp;rox=48','MyWindow','width=500,height=300'); return false;\">+</a>(<font color=\"green\">1253</font>)<a class=\"qa\" href=\"#\" onclick=\"MyWindow2=window.open('./?le=689e6a943d4f754234f4e4dfc837d97f&amp;sox=48','MyWindow2','width=500,height=300'); return false;\">-</a> <a class=\"qa\" href=\"./?le=689e6a943d4f754234f4e4dfc837d97f&amp;sux=48\" onclick=\"return confirm('Flag quote for review?');\">[X]</a></p><p class=\"qt\">&lt;myhero&gt; I wish I could just poop all day long</p>\n",
       "<p class=\"quote\"><a href=\"?49\" title=\"Permanent link to this quote.\"><b>#49</b></a> <a class=\"qa\" href=\"#\" onclick=\"MyWindow=window.open('./?le=689e6a943d4f754234f4e4dfc837d97f&amp;rox=49','MyWindow','width=500,height=300'); return false;\">+</a>(<font color=\"green\">2134</font>)<a class=\"qa\" href=\"#\" onclick=\"MyWindow2=window.open('./?le=689e6a943d4f754234f4e4dfc837d97f&amp;sox=49','MyWindow2','width=500,height=300'); return false;\">-</a> <a class=\"qa\" href=\"./?le=689e6a943d4f754234f4e4dfc837d97f&amp;sux=49\" onclick=\"return confirm('Flag quote for review?');\">[X]</a></p><p class=\"qt\">&lt;TheFlux&gt; give me a chick with lips the size of that guy from aerosmith or something<br/>\n",
       "&lt;scarf&gt; why dont you just get the guy from aerosmith</p>\n",
       "<p class=\"quote\"><a href=\"?50\" title=\"Permanent link to this quote.\"><b>#50</b></a> <a class=\"qa\" href=\"#\" onclick=\"MyWindow=window.open('./?le=689e6a943d4f754234f4e4dfc837d97f&amp;rox=50','MyWindow','width=500,height=300'); return false;\">+</a>(<font color=\"green\">157</font>)<a class=\"qa\" href=\"#\" onclick=\"MyWindow2=window.open('./?le=689e6a943d4f754234f4e4dfc837d97f&amp;sox=50','MyWindow2','width=500,height=300'); return false;\">-</a> <a class=\"qa\" href=\"./?le=689e6a943d4f754234f4e4dfc837d97f&amp;sux=50\" onclick=\"return confirm('Flag quote for review?');\">[X]</a></p><p class=\"qt\">&lt;tay&gt; oops I did it again... I klined your bot... and then smoked some pot.. oh baby baby..</p>\n",
       "<p class=\"quote\"><a href=\"?51\" title=\"Permanent link to this quote.\"><b>#51</b></a> <a class=\"qa\" href=\"#\" onclick=\"MyWindow=window.open('./?le=689e6a943d4f754234f4e4dfc837d97f&amp;rox=51','MyWindow','width=500,height=300'); return false;\">+</a>(<font color=\"green\">1046</font>)<a class=\"qa\" href=\"#\" onclick=\"MyWindow2=window.open('./?le=689e6a943d4f754234f4e4dfc837d97f&amp;sox=51','MyWindow2','width=500,height=300'); return false;\">-</a> <a class=\"qa\" href=\"./?le=689e6a943d4f754234f4e4dfc837d97f&amp;sux=51\" onclick=\"return confirm('Flag quote for review?');\">[X]</a></p><p class=\"qt\">&lt;UncleJed&gt; the government should split up efnet<br/>\n",
       "&lt;UncleJed&gt; not that efnet doesn't split enough as it is</p>\n",
       "<p class=\"quote\"><a href=\"?52\" title=\"Permanent link to this quote.\"><b>#52</b></a> <a class=\"qa\" href=\"#\" onclick=\"MyWindow=window.open('./?le=689e6a943d4f754234f4e4dfc837d97f&amp;rox=52','MyWindow','width=500,height=300'); return false;\">+</a>(<font color=\"green\">6354</font>)<a class=\"qa\" href=\"#\" onclick=\"MyWindow2=window.open('./?le=689e6a943d4f754234f4e4dfc837d97f&amp;sox=52','MyWindow2','width=500,height=300'); return false;\">-</a> <a class=\"qa\" href=\"./?le=689e6a943d4f754234f4e4dfc837d97f&amp;sux=52\" onclick=\"return confirm('Flag quote for review?');\">[X]</a></p><p class=\"qt\">&lt;Tsk&gt; oiuyniyu98h987h89yh87y98yjn987j987y897yhkiuk;''''<br/>\n",
       "&lt;Tsk&gt; sorry.. there was a spider on my keyboard.</p>\n",
       "<p class=\"quote\"><a href=\"?54\" title=\"Permanent link to this quote.\"><b>#54</b></a> <a class=\"qa\" href=\"#\" onclick=\"MyWindow=window.open('./?le=689e6a943d4f754234f4e4dfc837d97f&amp;rox=54','MyWindow','width=500,height=300'); return false;\">+</a>(<font color=\"green\">1257</font>)<a class=\"qa\" href=\"#\" onclick=\"MyWindow2=window.open('./?le=689e6a943d4f754234f4e4dfc837d97f&amp;sox=54','MyWindow2','width=500,height=300'); return false;\">-</a> <a class=\"qa\" href=\"./?le=689e6a943d4f754234f4e4dfc837d97f&amp;sux=54\" onclick=\"return confirm('Flag quote for review?');\">[X]</a></p><p class=\"qt\">&lt;ACDCC&gt; Hey, does anyone know when Dance Dance Revolution comes out on GBC?</p>\n",
       "<p class=\"quote\"><a href=\"?55\" title=\"Permanent link to this quote.\"><b>#55</b></a> <a class=\"qa\" href=\"#\" onclick=\"MyWindow=window.open('./?le=689e6a943d4f754234f4e4dfc837d97f&amp;rox=55','MyWindow','width=500,height=300'); return false;\">+</a>(<font color=\"green\">3931</font>)<a class=\"qa\" href=\"#\" onclick=\"MyWindow2=window.open('./?le=689e6a943d4f754234f4e4dfc837d97f&amp;sox=55','MyWindow2','width=500,height=300'); return false;\">-</a> <a class=\"qa\" href=\"./?le=689e6a943d4f754234f4e4dfc837d97f&amp;sux=55\" onclick=\"return confirm('Flag quote for review?');\">[X]</a></p><p class=\"qt\">&lt;Sonique&gt; you know you've just experienced an odd moment at 3:30am when you're completely naked making an away msg for aim and your dad (clothed only in breifs) strolls by, waves, and says, \"i thought i smelled something. oh well, night!\", and walks off</p>\n",
       "<p class=\"quote\"><a href=\"?56\" title=\"Permanent link to this quote.\"><b>#56</b></a> <a class=\"qa\" href=\"#\" onclick=\"MyWindow=window.open('./?le=689e6a943d4f754234f4e4dfc837d97f&amp;rox=56','MyWindow','width=500,height=300'); return false;\">+</a>(<font color=\"green\">1298</font>)<a class=\"qa\" href=\"#\" onclick=\"MyWindow2=window.open('./?le=689e6a943d4f754234f4e4dfc837d97f&amp;sox=56','MyWindow2','width=500,height=300'); return false;\">-</a> <a class=\"qa\" href=\"./?le=689e6a943d4f754234f4e4dfc837d97f&amp;sux=56\" onclick=\"return confirm('Flag quote for review?');\">[X]</a></p><p class=\"qt\">&lt;Wind-X&gt; and penis butter and jelly make a good sandwich</p>\n",
       "<p class=\"quote\"><a href=\"?57\" title=\"Permanent link to this quote.\"><b>#57</b></a> <a class=\"qa\" href=\"#\" onclick=\"MyWindow=window.open('./?le=689e6a943d4f754234f4e4dfc837d97f&amp;rox=57','MyWindow','width=500,height=300'); return false;\">+</a>(<font color=\"red\">-167</font>)<a class=\"qa\" href=\"#\" onclick=\"MyWindow2=window.open('./?le=689e6a943d4f754234f4e4dfc837d97f&amp;sox=57','MyWindow2','width=500,height=300'); return false;\">-</a> <a class=\"qa\" href=\"./?le=689e6a943d4f754234f4e4dfc837d97f&amp;sux=57\" onclick=\"return confirm('Flag quote for review?');\">[X]</a></p><p class=\"qt\">&lt;hypr&gt; if i was getting it in the ass by a brute id fucking kill him stab him in the throat with a pencil or something</p>\n",
       "<p class=\"quote\"><a href=\"?58\" title=\"Permanent link to this quote.\"><b>#58</b></a> <a class=\"qa\" href=\"#\" onclick=\"MyWindow=window.open('./?le=689e6a943d4f754234f4e4dfc837d97f&amp;rox=58','MyWindow','width=500,height=300'); return false;\">+</a>(<font color=\"green\">1629</font>)<a class=\"qa\" href=\"#\" onclick=\"MyWindow2=window.open('./?le=689e6a943d4f754234f4e4dfc837d97f&amp;sox=58','MyWindow2','width=500,height=300'); return false;\">-</a> <a class=\"qa\" href=\"./?le=689e6a943d4f754234f4e4dfc837d97f&amp;sux=58\" onclick=\"return confirm('Flag quote for review?');\">[X]</a></p><p class=\"qt\">&lt;disconect&gt; Tekken and sex both give my hand a cramp if I do it for too long, though...</p>\n",
       "<p class=\"quote\"><a href=\"?59\" title=\"Permanent link to this quote.\"><b>#59</b></a> <a class=\"qa\" href=\"#\" onclick=\"MyWindow=window.open('./?le=689e6a943d4f754234f4e4dfc837d97f&amp;rox=59','MyWindow','width=500,height=300'); return false;\">+</a>(<font color=\"green\">967</font>)<a class=\"qa\" href=\"#\" onclick=\"MyWindow2=window.open('./?le=689e6a943d4f754234f4e4dfc837d97f&amp;sox=59','MyWindow2','width=500,height=300'); return false;\">-</a> <a class=\"qa\" href=\"./?le=689e6a943d4f754234f4e4dfc837d97f&amp;sux=59\" onclick=\"return confirm('Flag quote for review?');\">[X]</a></p><p class=\"qt\">&lt;ikkenai&gt; I used to think knight rider was the car</p>\n",
       "<p class=\"quote\"><a href=\"?61\" title=\"Permanent link to this quote.\"><b>#61</b></a> <a class=\"qa\" href=\"#\" onclick=\"MyWindow=window.open('./?le=689e6a943d4f754234f4e4dfc837d97f&amp;rox=61','MyWindow','width=500,height=300'); return false;\">+</a>(<font color=\"green\">1337</font>)<a class=\"qa\" href=\"#\" onclick=\"MyWindow2=window.open('./?le=689e6a943d4f754234f4e4dfc837d97f&amp;sox=61','MyWindow2','width=500,height=300'); return false;\">-</a> <a class=\"qa\" href=\"./?le=689e6a943d4f754234f4e4dfc837d97f&amp;sux=61\" onclick=\"return confirm('Flag quote for review?');\">[X]</a></p><p class=\"qt\">&lt;Guilty&gt; Really, celerons make me laugh<br/>\n",
       "&lt;Guilty&gt; The white trash chip</p>\n",
       "<p class=\"quote\"><a href=\"?63\" title=\"Permanent link to this quote.\"><b>#63</b></a> <a class=\"qa\" href=\"#\" onclick=\"MyWindow=window.open('./?le=689e6a943d4f754234f4e4dfc837d97f&amp;rox=63','MyWindow','width=500,height=300'); return false;\">+</a>(<font color=\"green\">3487</font>)<a class=\"qa\" href=\"#\" onclick=\"MyWindow2=window.open('./?le=689e6a943d4f754234f4e4dfc837d97f&amp;sox=63','MyWindow2','width=500,height=300'); return false;\">-</a> <a class=\"qa\" href=\"./?le=689e6a943d4f754234f4e4dfc837d97f&amp;sux=63\" onclick=\"return confirm('Flag quote for review?');\">[X]</a></p><p class=\"qt\">&lt;Moot&gt; masturbatin time<br/>\n",
       "&lt;Moot&gt; I'm livin dangerously<br/>\n",
       "&lt;Moot&gt; I'm not gonan check to see if my mom is asleep yet</p>\n",
       "</td>\n",
       "<td valign=\"top\"></td></tr></table>\n",
       "</center>\n",
       "<br/><center><table cellpadding=\"0\" cellspacing=\"0\" width=\"80%\"><tr><td><font class=\"qt\"><center><font class=\"qa\">01</font>-<a class=\"qa\" href=\"./?browse&amp;p=02\">02</a>-<a class=\"qa\" href=\"./?browse&amp;p=03\">03</a>-<a class=\"qa\" href=\"./?browse&amp;p=04\">04</a>-<a class=\"qa\" href=\"./?browse&amp;p=05\">05</a>-<a class=\"qa\" href=\"./?browse&amp;p=06\">06</a> <a class=\"qa\" href=\"./?browse&amp;p=2\">&gt;</a> <a class=\"qa\" href=\"./?browse&amp;p=11\">+10</a> <a class=\"qa\" href=\"?browse&amp;p=422\">End</a> </center></font></td></tr></table></center><center>\n",
       "<table bgcolor=\"#c08000\" border=\"0\" cellpadding=\"2\" cellspacing=\"0\" width=\"80%\"><tr><td bgcolor=\"#f0f0f0\" class=\"toplinks\" colspan=\"2\"><a href=\"./\">Home</a> / <a href=\"./?latest\">Latest</a> / <a href=\"./?browse\">Browse</a> / \n",
       "<a href=\"./?random\">Random</a> <a href=\"./?random1\">&gt;0</a> / <a href=\"./?top\">Top 100</a><a href=\"./?top2\">-200</a> /\n",
       "<a href=\"./?add\"><b>Add Quote</b></a> / <a href=\"./?search\">Search</a> / <a href=\"modapp/\">ModApp</a></td>\n",
       "</tr>\n",
       "<tr>\n",
       "<td align=\"left\" class=\"footertext\">0.3735</td><td align=\"right\" class=\"footertext\"> 21090 quotes approved; 882 quotes pending</td>\n",
       "</tr>\n",
       "</table>\n",
       "<font size=\"-1\">\n",
       "<a href=\"http://www.idologic.com\">Hosted by Idologic: high quality reseller and dedicated hosting.</a>\n",
       "<br/>\n",
       "© QDB 1999-2020, All Rights Reserved.\n",
       "</font>\n",
       "</center>\n",
       "</p>\n"
      ]
     },
     "execution_count": 105,
     "metadata": {},
     "output_type": "execute_result"
    }
   ],
   "source": [
    "soup"
   ]
  }
 ],
 "metadata": {
  "kernelspec": {
   "display_name": "Python 3",
   "language": "python",
   "name": "python3"
  },
  "language_info": {
   "codemirror_mode": {
    "name": "ipython",
    "version": 3
   },
   "file_extension": ".py",
   "mimetype": "text/x-python",
   "name": "python",
   "nbconvert_exporter": "python",
   "pygments_lexer": "ipython3",
   "version": "3.7.5"
  }
 },
 "nbformat": 4,
 "nbformat_minor": 2
}
